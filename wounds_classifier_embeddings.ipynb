{
 "cells": [
  {
   "cell_type": "code",
   "execution_count": null,
   "metadata": {},
   "outputs": [
    {
     "name": "stderr",
     "output_type": "stream",
     "text": [
      "c:\\Users\\gabri\\OneDrive\\Documentos\\WoundsDataset\\venv_wound\\Lib\\site-packages\\tqdm\\auto.py:21: TqdmWarning: IProgress not found. Please update jupyter and ipywidgets. See https://ipywidgets.readthedocs.io/en/stable/user_install.html\n",
      "  from .autonotebook import tqdm as notebook_tqdm\n"
     ]
    }
   ],
   "source": [
    "import os\n",
    "import shutil\n",
    "import pandas as pd\n",
    "from sklearn.model_selection import train_test_split\n",
    "from sklearn.metrics import classification_report, confusion_matrix, ConfusionMatrixDisplay\n",
    "import torch\n",
    "from torch import nn, optim\n",
    "from torch.utils.data import Dataset, DataLoader\n",
    "from torchvision import models, transforms\n",
    "from PIL import Image, ImageFilter, ImageEnhance\n",
    "import matplotlib.pyplot as plt\n",
    "import numpy as np\n",
    "from io import BytesIO\n",
    "import torch.nn.functional as F\n",
    "import random \n",
    "import tensorflow as tf\n",
    "from huggingface_hub import from_pretrained_keras\n",
    "from huggingface_hub import snapshot_download\n",
    "from huggingface_hub import login"
   ]
  },
  {
   "cell_type": "markdown",
   "metadata": {},
   "source": [
    "huggingface-cli login"
   ]
  },
  {
   "cell_type": "code",
   "execution_count": 2,
   "metadata": {},
   "outputs": [],
   "source": [
    "from tqdm import tqdm"
   ]
  },
  {
   "cell_type": "code",
   "execution_count": null,
   "metadata": {},
   "outputs": [
    {
     "name": "stderr",
     "output_type": "stream",
     "text": [
      "Fetching 7 files: 100%|██████████| 7/7 [00:00<?, ?it/s]\n"
     ]
    },
    {
     "name": "stdout",
     "output_type": "stream",
     "text": [
      "Criando DataFrame a partir de: c:\\Users\\gabri\\OneDrive\\Documentos\\WoundsDataset\n",
      "Total de imagens encontradas (incluindo 'Normal'): 1758\n",
      "Contagem de imagens por classe (incluindo 'Normal'):\n",
      "label_name\n",
      "Pressure Wounds    602\n",
      "Venous Wounds      494\n",
      "Diabetic Wounds    462\n",
      "Normal             200\n",
      "Name: count, dtype: int64\n",
      "\n",
      "Total de imagens de feridas antes da filtragem de 'mirrored_': 1558\n",
      "Total de imagens de feridas após a filtragem de 'mirrored_': 779\n",
      "Número de imagens 'mirrored_' removidas: 779\n",
      "\n",
      "Classes para o Estágio 2 (tipos de ferida) após filtragem: ['Diabetic Wounds', 'Pressure Wounds', 'Venous Wounds']\n",
      "Mapeamento de rótulos para o Estágio 2 após filtragem: {'Diabetic Wounds': 0, 'Pressure Wounds': 1, 'Venous Wounds': 2}\n",
      "\n",
      "Tamanho do conjunto de treino (Estágio 2) após filtragem: 498\n",
      "Tamanho do conjunto de validação (Estágio 2) após filtragem: 125\n",
      "Tamanho do conjunto de teste (Estágio 2) após filtragem: 156\n"
     ]
    }
   ],
   "source": [
    "# --- 1. Configurações Globais ---\n",
    "data_dir = os.getcwd()\n",
    "target_classes_full = ['Diabetic Wounds', 'Normal', 'Pressure Wounds', 'Venous Wounds']\n",
    "device = torch.device('cuda' if torch.cuda.is_available() else 'cpu')\n",
    "\n",
    "label_to_idx_full = {name: i for i, name in enumerate(target_classes_full)}\n",
    "idx_to_label_full = {i: name for i, name in enumerate(target_classes_full)}\n",
    "\n",
    "# --- 2. Login e carregamento do Derm Foundation ---\n",
    "local_model_path = snapshot_download(\"google/derm-foundation\")\n",
    "loaded_derm_foundation_layer = tf.keras.layers.TFSMLayer(\n",
    "    local_model_path, call_endpoint='serving_default'\n",
    ")\n",
    "\n",
    "# Inferência de teste para obter dimensão do embedding\n",
    "dummy = Image.new('RGB', (224,224))\n",
    "buf = BytesIO(); dummy.save(buf,'PNG')\n",
    "ex = tf.train.Example(features=tf.train.Features(\n",
    "    feature={'image/encoded': tf.train.Feature(\n",
    "        bytes_list=tf.train.BytesList(value=[buf.getvalue()]))\n",
    "    })).SerializeToString()\n",
    "out = loaded_derm_foundation_layer(inputs=tf.constant([ex], dtype=tf.string))\n",
    "Derm_FOUNDATION_EMBEDDING_SIZE = out['embedding'][0].shape[-1]\n",
    "\n",
    "\n",
    "def get_derm_embedding(path):\n",
    "    try:\n",
    "        img = Image.open(path).convert('RGB')\n",
    "        buf = BytesIO(); img.save(buf,'PNG')\n",
    "        ex = tf.train.Example(features=tf.train.Features(\n",
    "            feature={'image/encoded': tf.train.Feature(\n",
    "                bytes_list=tf.train.BytesList(value=[buf.getvalue()]))\n",
    "            })).SerializeToString()\n",
    "        out = loaded_derm_foundation_layer(inputs=tf.constant([ex], dtype=tf.string))\n",
    "        emb = out['embedding'][0].numpy()\n",
    "        return torch.from_numpy(emb).float()\n",
    "    except:\n",
    "        return None\n",
    "\n",
    "\n",
    "# --- 3. Criar DataFrame e splits ---\n",
    "def create_dataframe(data_dir, classes):\n",
    "    rows = []\n",
    "    if not os.path.isdir(data_dir):\n",
    "        print(f\"Erro: Diretório de dados não encontrado: {data_dir}\")\n",
    "        return pd.DataFrame(rows) \n",
    "    for cls in classes:\n",
    "        class_path = os.path.join(data_dir, cls)\n",
    "        if not os.path.isdir(class_path):\n",
    "            print(f\"Atenção: Diretório da classe não encontrado: {class_path}\")\n",
    "            continue \n",
    "\n",
    "        for f in os.listdir(class_path):\n",
    "            if f.lower().endswith(('png','jpg','jpeg')):\n",
    "                rows.append({\n",
    "                    'image_path': os.path.join(class_path, f),\n",
    "                    'label_name': cls\n",
    "                })\n",
    "    df = pd.DataFrame(rows)\n",
    "    if df.empty:\n",
    "        print(\"DataFrame vazio. Verifique se 'data_dir' está correto e contém as imagens nas subpastas de classe.\")\n",
    "        return df \n",
    "\n",
    "    df['label_idx'] = df['label_name'].map(label_to_idx_full)\n",
    "    return df\n",
    "\n",
    "print(f\"Criando DataFrame a partir de: {data_dir}\")\n",
    "df_full = create_dataframe(data_dir, target_classes_full)\n",
    "\n",
    "if df_full.empty:\n",
    "    print(\"Nenhuma imagem encontrada ou erro ao criar DataFrame. Verifique a estrutura de diretórios e os caminhos.\")\n",
    "    exit()\n",
    "\n",
    "print(f\"Total de imagens encontradas (incluindo 'Normal'): {len(df_full)}\")\n",
    "print(f\"Contagem de imagens por classe (incluindo 'Normal'):\\n{df_full['label_name'].value_counts()}\")\n",
    "\n",
    "\n",
    "# Estágio 2: apenas feridas\n",
    "df_s2 = df_full[df_full['label_name']!='Normal'].copy()\n",
    "if df_s2.empty:\n",
    "    print(\"Nenhuma imagem de ferida encontrada após excluir a classe 'Normal'.\")\n",
    "    exit()\n",
    "\n",
    "print(f\"\\nTotal de imagens de feridas antes da filtragem de 'mirrored_': {len(df_s2)}\")\n",
    "\n",
    "mask_not_mirrored = ~df_s2['image_path'].str.contains('mirrored_')\n",
    "\n",
    "df_s2_filtered = df_s2[mask_not_mirrored].copy()\n",
    "\n",
    "print(f\"Total de imagens de feridas após a filtragem de 'mirrored_': {len(df_s2_filtered)}\")\n",
    "print(f\"Número de imagens 'mirrored_' removidas: {len(df_s2) - len(df_s2_filtered)}\")\n",
    "\n",
    "\n",
    "s2_map = {l:i for i,l in enumerate(sorted(df_s2_filtered['label_name'].unique()))}\n",
    "df_s2_filtered['label_s2'] = df_s2_filtered['label_name'].map(s2_map)\n",
    "classes_s2 = list(s2_map.keys()) \n",
    "idx_to_label_s2 = {v: k for k, v in s2_map.items()} \n",
    "\n",
    "print(f\"\\nClasses para o Estágio 2 (tipos de ferida) após filtragem: {classes_s2}\")\n",
    "print(f\"Mapeamento de rótulos para o Estágio 2 após filtragem: {s2_map}\")\n",
    "\n",
    "train_df_s2, test_df_s2 = train_test_split(df_s2_filtered, test_size=0.2,\n",
    "                                         stratify=df_s2_filtered['label_s2'], random_state=42)\n",
    "train_df_s2, val_df_s2 = train_test_split(train_df_s2, test_size=0.2,\n",
    "                                         stratify=train_df_s2['label_s2'], random_state=42)\n",
    "\n",
    "print(f\"\\nTamanho do conjunto de treino (Estágio 2) após filtragem: {len(train_df_s2)}\")\n",
    "print(f\"Tamanho do conjunto de validação (Estágio 2) após filtragem: {len(val_df_s2)}\")\n",
    "print(f\"Tamanho do conjunto de teste (Estágio 2) após filtragem: {len(test_df_s2)}\")"
   ]
  },
  {
   "cell_type": "code",
   "execution_count": null,
   "metadata": {},
   "outputs": [
    {
     "name": "stderr",
     "output_type": "stream",
     "text": [
      "Fetching 7 files: 100%|██████████| 7/7 [00:00<?, ?it/s]\n"
     ]
    },
    {
     "name": "stdout",
     "output_type": "stream",
     "text": [
      "Criando DataFrame a partir de: c:\\Users\\gabri\\OneDrive\\Documentos\\WoundsDataset\n",
      "Total de imagens encontradas (incluindo 'Normal'): 1758\n",
      "Contagem de imagens por classe (incluindo 'Normal'):\n",
      "label_name\n",
      "Pressure Wounds    602\n",
      "Venous Wounds      494\n",
      "Diabetic Wounds    462\n",
      "Normal             200\n",
      "Name: count, dtype: int64\n",
      "\n",
      "Total de imagens de feridas antes da filtragem de 'mirrored_': 1558\n",
      "Total de imagens de feridas após a filtragem de 'mirrored_': 779\n",
      "Número de imagens 'mirrored_' removidas: 779\n",
      "\n",
      "Classes para o Estágio 2 (tipos de ferida) após filtragem: ['Diabetic Wounds', 'Pressure Wounds', 'Venous Wounds']\n",
      "Mapeamento de rótulos para o Estágio 2 após filtragem: {'Diabetic Wounds': 0, 'Pressure Wounds': 1, 'Venous Wounds': 2}\n",
      "\n",
      "Tamanho do conjunto de treino (Estágio 2) após filtragem: 498\n",
      "Tamanho do conjunto de validação (Estágio 2) após filtragem: 125\n",
      "Tamanho do conjunto de teste (Estágio 2) após filtragem: 156\n"
     ]
    },
    {
     "name": "stderr",
     "output_type": "stream",
     "text": [
      "Precompute train_s2: 100%|██████████| 498/498 [25:28<00:00,  3.07s/it]\n",
      "Precompute val_s2: 100%|██████████| 125/125 [06:22<00:00,  3.06s/it]\n",
      "Precompute test_s2: 100%|██████████| 156/156 [07:55<00:00,  3.05s/it]\n"
     ]
    },
    {
     "name": "stdout",
     "output_type": "stream",
     "text": [
      "\n",
      "--- Treino Estágio 2 (Feridas) ---\n"
     ]
    },
    {
     "name": "stderr",
     "output_type": "stream",
     "text": [
      "                                                          \r"
     ]
    },
    {
     "name": "stdout",
     "output_type": "stream",
     "text": [
      "Epoch 1 Train Loss: 0.6361 Acc: 0.7309\n"
     ]
    },
    {
     "name": "stderr",
     "output_type": "stream",
     "text": [
      "                                                 \r"
     ]
    },
    {
     "name": "stdout",
     "output_type": "stream",
     "text": [
      "Epoch 1 Val   Loss: 0.5366 Acc: 0.7760\n",
      "→ Salvo melhor modelo (0.7760) em modelo_estagio2_derm_emb.pth\n"
     ]
    },
    {
     "name": "stderr",
     "output_type": "stream",
     "text": [
      "                                                  \r"
     ]
    },
    {
     "name": "stdout",
     "output_type": "stream",
     "text": [
      "Epoch 2 Train Loss: 0.4498 Acc: 0.8133\n"
     ]
    },
    {
     "name": "stderr",
     "output_type": "stream",
     "text": [
      "                                                 \r"
     ]
    },
    {
     "name": "stdout",
     "output_type": "stream",
     "text": [
      "Epoch 2 Val   Loss: 0.4607 Acc: 0.7920\n",
      "→ Salvo melhor modelo (0.7920) em modelo_estagio2_derm_emb.pth\n"
     ]
    },
    {
     "name": "stderr",
     "output_type": "stream",
     "text": [
      "                                                  \r"
     ]
    },
    {
     "name": "stdout",
     "output_type": "stream",
     "text": [
      "Epoch 3 Train Loss: 0.3509 Acc: 0.8735\n"
     ]
    },
    {
     "name": "stderr",
     "output_type": "stream",
     "text": [
      "                                                 \r"
     ]
    },
    {
     "name": "stdout",
     "output_type": "stream",
     "text": [
      "Epoch 3 Val   Loss: 0.4221 Acc: 0.8240\n",
      "→ Salvo melhor modelo (0.8240) em modelo_estagio2_derm_emb.pth\n"
     ]
    },
    {
     "name": "stderr",
     "output_type": "stream",
     "text": [
      "                                                  \r"
     ]
    },
    {
     "name": "stdout",
     "output_type": "stream",
     "text": [
      "Epoch 4 Train Loss: 0.2977 Acc: 0.8916\n"
     ]
    },
    {
     "name": "stderr",
     "output_type": "stream",
     "text": [
      "                                                 \r"
     ]
    },
    {
     "name": "stdout",
     "output_type": "stream",
     "text": [
      "Epoch 4 Val   Loss: 0.4786 Acc: 0.8000\n"
     ]
    },
    {
     "name": "stderr",
     "output_type": "stream",
     "text": [
      "                                                  \r"
     ]
    },
    {
     "name": "stdout",
     "output_type": "stream",
     "text": [
      "Epoch 5 Train Loss: 0.2777 Acc: 0.9016\n"
     ]
    },
    {
     "name": "stderr",
     "output_type": "stream",
     "text": [
      "                                                 \r"
     ]
    },
    {
     "name": "stdout",
     "output_type": "stream",
     "text": [
      "Epoch 5 Val   Loss: 0.4554 Acc: 0.8080\n"
     ]
    },
    {
     "name": "stderr",
     "output_type": "stream",
     "text": [
      "                                                  \r"
     ]
    },
    {
     "name": "stdout",
     "output_type": "stream",
     "text": [
      "Epoch 6 Train Loss: 0.2488 Acc: 0.9096\n"
     ]
    },
    {
     "name": "stderr",
     "output_type": "stream",
     "text": [
      "                                                 \r"
     ]
    },
    {
     "name": "stdout",
     "output_type": "stream",
     "text": [
      "Epoch 6 Val   Loss: 0.4288 Acc: 0.8240\n"
     ]
    },
    {
     "name": "stderr",
     "output_type": "stream",
     "text": [
      "                                                  \r"
     ]
    },
    {
     "name": "stdout",
     "output_type": "stream",
     "text": [
      "Epoch 7 Train Loss: 0.2234 Acc: 0.9217\n"
     ]
    },
    {
     "name": "stderr",
     "output_type": "stream",
     "text": [
      "                                                 \r"
     ]
    },
    {
     "name": "stdout",
     "output_type": "stream",
     "text": [
      "Epoch 7 Val   Loss: 0.4191 Acc: 0.8400\n",
      "→ Salvo melhor modelo (0.8400) em modelo_estagio2_derm_emb.pth\n"
     ]
    },
    {
     "name": "stderr",
     "output_type": "stream",
     "text": [
      "                                                  \r"
     ]
    },
    {
     "name": "stdout",
     "output_type": "stream",
     "text": [
      "Epoch 8 Train Loss: 0.2191 Acc: 0.9257\n"
     ]
    },
    {
     "name": "stderr",
     "output_type": "stream",
     "text": [
      "                                                 \r"
     ]
    },
    {
     "name": "stdout",
     "output_type": "stream",
     "text": [
      "Epoch 8 Val   Loss: 0.4797 Acc: 0.8160\n"
     ]
    },
    {
     "name": "stderr",
     "output_type": "stream",
     "text": [
      "                                                  \r"
     ]
    },
    {
     "name": "stdout",
     "output_type": "stream",
     "text": [
      "Epoch 9 Train Loss: 0.2005 Acc: 0.9317\n"
     ]
    },
    {
     "name": "stderr",
     "output_type": "stream",
     "text": [
      "                                                 \r"
     ]
    },
    {
     "name": "stdout",
     "output_type": "stream",
     "text": [
      "Epoch 9 Val   Loss: 0.4297 Acc: 0.8400\n"
     ]
    },
    {
     "name": "stderr",
     "output_type": "stream",
     "text": [
      "                                                   \r"
     ]
    },
    {
     "name": "stdout",
     "output_type": "stream",
     "text": [
      "Epoch 10 Train Loss: 0.1789 Acc: 0.9337\n"
     ]
    },
    {
     "name": "stderr",
     "output_type": "stream",
     "text": [
      "                                                  "
     ]
    },
    {
     "name": "stdout",
     "output_type": "stream",
     "text": [
      "Epoch 10 Val   Loss: 0.4284 Acc: 0.8320\n"
     ]
    },
    {
     "name": "stderr",
     "output_type": "stream",
     "text": [
      "\r"
     ]
    }
   ],
   "source": [
    "# --- 4. Pré-computar embeddings offline ---\n",
    "def precompute_embeddings(df, split, outdir=\"embeddings\"):\n",
    "    os.makedirs(outdir, exist_ok=True)\n",
    "    embs, labels = [], []\n",
    "    for _, r in tqdm(df.iterrows(), total=len(df), desc=f\"Precompute {split}\"):\n",
    "        e = get_derm_embedding(r['image_path'])\n",
    "        if e is not None:\n",
    "            embs.append(e)\n",
    "            labels.append(int(r['label_s2']))\n",
    "    embs_t  = torch.stack(embs)\n",
    "    labs_t  = torch.tensor(labels)\n",
    "    path = os.path.join(outdir, f\"{split}_emb.pt\")\n",
    "    torch.save((embs_t, labs_t), path)\n",
    "    return path\n",
    "\n",
    "train_s2_path = precompute_embeddings(train_df_s2, \"train_s2\")\n",
    "val_s2_path   = precompute_embeddings(val_df_s2,   \"val_s2\")\n",
    "test_s2_path  = precompute_embeddings(test_df_s2,  \"test_s2\")\n",
    "\n",
    "# --- 5. Dataset e DataLoader de embeddings ---\n",
    "class PrecomputedEmbeddingDataset(Dataset):\n",
    "    def __init__(self, emb_path):\n",
    "        self.embs, self.labels = torch.load(emb_path)\n",
    "    def __len__(self): return len(self.labels)\n",
    "    def __getitem__(self, idx):\n",
    "        return self.embs[idx], self.labels[idx]\n",
    "\n",
    "batch_size = 32\n",
    "train_loader_s2_emb = DataLoader(PrecomputedEmbeddingDataset(train_s2_path),\n",
    "                                 batch_size, shuffle=True)\n",
    "val_loader_s2_emb = DataLoader(PrecomputedEmbeddingDataset(val_s2_path),\n",
    "                               batch_size, shuffle=False)\n",
    "test_loader_s2_emb = DataLoader(PrecomputedEmbeddingDataset(test_s2_path),\n",
    "                                batch_size, shuffle=False)"
   ]
  },
  {
   "cell_type": "code",
   "execution_count": 5,
   "metadata": {},
   "outputs": [],
   "source": [
    "# --- 6. Definição do classificador e funções de treino/validação ---\n",
    "def get_classifier_head(emb_size, n_classes):\n",
    "    return nn.Linear(emb_size, n_classes).to(device)\n",
    "\n",
    "def train_epoch(model, loader, crit, opt, epoch, epochs):\n",
    "    model.train(); rl, rc, tot = 0, 0, 0\n",
    "    for emb, lbl in tqdm(loader, desc=f\"Train {epoch+1}/{epochs}\", leave=False):\n",
    "        emb, lbl = emb.to(device), lbl.to(device)\n",
    "        opt.zero_grad()\n",
    "        out = model(emb)\n",
    "        loss = crit(out, lbl)\n",
    "        loss.backward()\n",
    "        opt.step()\n",
    "        rl += loss.item()*emb.size(0)\n",
    "        preds = out.argmax(1)\n",
    "        rc += (preds==lbl).sum().item()\n",
    "        tot+= lbl.size(0)\n",
    "    print(f\"Epoch {epoch+1} Train Loss: {rl/tot:.4f} Acc: {rc/tot:.4f}\")\n",
    "    return rl/tot, rc/tot\n",
    "\n",
    "def val_epoch(model, loader, crit, epoch, epochs):\n",
    "    model.eval(); rl, rc, tot = 0, 0, 0\n",
    "    with torch.no_grad():\n",
    "        for emb, lbl in tqdm(loader, desc=f\"Val   {epoch+1}/{epochs}\", leave=False):\n",
    "            emb, lbl = emb.to(device), lbl.to(device)\n",
    "            out  = model(emb)\n",
    "            loss = crit(out, lbl)\n",
    "            rl += loss.item()*emb.size(0)\n",
    "            preds = out.argmax(1)\n",
    "            rc += (preds==lbl).sum().item()\n",
    "            tot+= lbl.size(0)\n",
    "    print(f\"Epoch {epoch+1} Val   Loss: {rl/tot:.4f} Acc: {rc/tot:.4f}\")\n",
    "    return rl/tot, rc/tot\n",
    "\n",
    "def run_training_emb(model, tr_loader, v_loader, crit, opt, save_path, epochs=10):\n",
    "    best_acc=0\n",
    "    for e in range(epochs):\n",
    "        train_epoch(model, tr_loader, crit, opt, e, epochs)\n",
    "        _, acc = val_epoch(model, v_loader, crit, e, epochs)\n",
    "        if acc>best_acc:\n",
    "            best_acc=acc\n",
    "            torch.save(model.state_dict(), save_path)\n",
    "            print(f\"→ Salvo melhor modelo ({acc:.4f}) em {save_path}\")"
   ]
  },
  {
   "cell_type": "code",
   "execution_count": 21,
   "metadata": {},
   "outputs": [],
   "source": [
    "# --- 5. Dataset e DataLoader de embeddings ---\n",
    "class PrecomputedEmbeddingDataset(Dataset):\n",
    "    def __init__(self, emb_path):\n",
    "        self.embs, self.labels = torch.load(emb_path)\n",
    "    def __len__(self): return len(self.labels)\n",
    "    def __getitem__(self, idx):\n",
    "        return self.embs[idx], self.labels[idx]\n",
    "\n",
    "batch_size = 32\n",
    "train_loader_s2_emb = DataLoader(PrecomputedEmbeddingDataset(train_s2_path),\n",
    "                                 batch_size, shuffle=True)\n",
    "val_loader_s2_emb = DataLoader(PrecomputedEmbeddingDataset(val_s2_path),\n",
    "                               batch_size, shuffle=False)\n",
    "test_loader_s2_emb = DataLoader(PrecomputedEmbeddingDataset(test_s2_path),\n",
    "                                batch_size, shuffle=False)"
   ]
  },
  {
   "cell_type": "code",
   "execution_count": 13,
   "metadata": {},
   "outputs": [
    {
     "name": "stdout",
     "output_type": "stream",
     "text": [
      "\n",
      "--- Treino Estágio 2 (Feridas) ---\n"
     ]
    },
    {
     "name": "stderr",
     "output_type": "stream",
     "text": [
      "                                                          \r"
     ]
    },
    {
     "name": "stdout",
     "output_type": "stream",
     "text": [
      "Epoch 1 Train Loss: 0.7514 Acc: 0.6747\n"
     ]
    },
    {
     "name": "stderr",
     "output_type": "stream",
     "text": [
      "                                                 \r"
     ]
    },
    {
     "name": "stdout",
     "output_type": "stream",
     "text": [
      "Epoch 1 Val   Loss: 0.5314 Acc: 0.7920\n",
      "→ Salvo melhor modelo (0.7920) em modelo_estagio2_derm_emb.pth\n"
     ]
    },
    {
     "name": "stderr",
     "output_type": "stream",
     "text": [
      "                                                  \r"
     ]
    },
    {
     "name": "stdout",
     "output_type": "stream",
     "text": [
      "Epoch 2 Train Loss: 0.4411 Acc: 0.8233\n"
     ]
    },
    {
     "name": "stderr",
     "output_type": "stream",
     "text": [
      "                                                 \r"
     ]
    },
    {
     "name": "stdout",
     "output_type": "stream",
     "text": [
      "Epoch 2 Val   Loss: 0.4900 Acc: 0.8160\n",
      "→ Salvo melhor modelo (0.8160) em modelo_estagio2_derm_emb.pth\n"
     ]
    },
    {
     "name": "stderr",
     "output_type": "stream",
     "text": [
      "                                                  \r"
     ]
    },
    {
     "name": "stdout",
     "output_type": "stream",
     "text": [
      "Epoch 3 Train Loss: 0.3661 Acc: 0.8494\n"
     ]
    },
    {
     "name": "stderr",
     "output_type": "stream",
     "text": [
      "                                                 \r"
     ]
    },
    {
     "name": "stdout",
     "output_type": "stream",
     "text": [
      "Epoch 3 Val   Loss: 0.4932 Acc: 0.7680\n"
     ]
    },
    {
     "name": "stderr",
     "output_type": "stream",
     "text": [
      "                                                  \r"
     ]
    },
    {
     "name": "stdout",
     "output_type": "stream",
     "text": [
      "Epoch 4 Train Loss: 0.3338 Acc: 0.8775\n"
     ]
    },
    {
     "name": "stderr",
     "output_type": "stream",
     "text": [
      "                                                 \r"
     ]
    },
    {
     "name": "stdout",
     "output_type": "stream",
     "text": [
      "Epoch 4 Val   Loss: 0.4338 Acc: 0.8160\n"
     ]
    },
    {
     "name": "stderr",
     "output_type": "stream",
     "text": [
      "                                                  \r"
     ]
    },
    {
     "name": "stdout",
     "output_type": "stream",
     "text": [
      "Epoch 5 Train Loss: 0.2875 Acc: 0.8996\n"
     ]
    },
    {
     "name": "stderr",
     "output_type": "stream",
     "text": [
      "                                                 \r"
     ]
    },
    {
     "name": "stdout",
     "output_type": "stream",
     "text": [
      "Epoch 5 Val   Loss: 0.4279 Acc: 0.8160\n"
     ]
    },
    {
     "name": "stderr",
     "output_type": "stream",
     "text": [
      "                                                  \r"
     ]
    },
    {
     "name": "stdout",
     "output_type": "stream",
     "text": [
      "Epoch 6 Train Loss: 0.2715 Acc: 0.8936\n"
     ]
    },
    {
     "name": "stderr",
     "output_type": "stream",
     "text": [
      "                                                 \r"
     ]
    },
    {
     "name": "stdout",
     "output_type": "stream",
     "text": [
      "Epoch 6 Val   Loss: 0.4670 Acc: 0.8080\n"
     ]
    },
    {
     "name": "stderr",
     "output_type": "stream",
     "text": [
      "                                                  \r"
     ]
    },
    {
     "name": "stdout",
     "output_type": "stream",
     "text": [
      "Epoch 7 Train Loss: 0.2324 Acc: 0.9177\n"
     ]
    },
    {
     "name": "stderr",
     "output_type": "stream",
     "text": [
      "                                                 \r"
     ]
    },
    {
     "name": "stdout",
     "output_type": "stream",
     "text": [
      "Epoch 7 Val   Loss: 0.5155 Acc: 0.7680\n"
     ]
    },
    {
     "name": "stderr",
     "output_type": "stream",
     "text": [
      "                                                  \r"
     ]
    },
    {
     "name": "stdout",
     "output_type": "stream",
     "text": [
      "Epoch 8 Train Loss: 0.2270 Acc: 0.9197\n"
     ]
    },
    {
     "name": "stderr",
     "output_type": "stream",
     "text": [
      "                                                 \r"
     ]
    },
    {
     "name": "stdout",
     "output_type": "stream",
     "text": [
      "Epoch 8 Val   Loss: 0.4407 Acc: 0.8400\n",
      "→ Salvo melhor modelo (0.8400) em modelo_estagio2_derm_emb.pth\n"
     ]
    },
    {
     "name": "stderr",
     "output_type": "stream",
     "text": [
      "                                                  \r"
     ]
    },
    {
     "name": "stdout",
     "output_type": "stream",
     "text": [
      "Epoch 9 Train Loss: 0.2100 Acc: 0.9177\n"
     ]
    },
    {
     "name": "stderr",
     "output_type": "stream",
     "text": [
      "                                                 \r"
     ]
    },
    {
     "name": "stdout",
     "output_type": "stream",
     "text": [
      "Epoch 9 Val   Loss: 0.4395 Acc: 0.8400\n"
     ]
    },
    {
     "name": "stderr",
     "output_type": "stream",
     "text": [
      "                                                   \r"
     ]
    },
    {
     "name": "stdout",
     "output_type": "stream",
     "text": [
      "Epoch 10 Train Loss: 0.2049 Acc: 0.9277\n"
     ]
    },
    {
     "name": "stderr",
     "output_type": "stream",
     "text": [
      "                                                  \r"
     ]
    },
    {
     "name": "stdout",
     "output_type": "stream",
     "text": [
      "Epoch 10 Val   Loss: 0.4346 Acc: 0.8320\n"
     ]
    },
    {
     "name": "stderr",
     "output_type": "stream",
     "text": [
      "                                                             \r"
     ]
    },
    {
     "name": "stdout",
     "output_type": "stream",
     "text": [
      "Epoch 11 Train Loss: 0.1720 Acc: 0.9438\n"
     ]
    },
    {
     "name": "stderr",
     "output_type": "stream",
     "text": [
      "                                                  \r"
     ]
    },
    {
     "name": "stdout",
     "output_type": "stream",
     "text": [
      "Epoch 11 Val   Loss: 0.4552 Acc: 0.8000\n"
     ]
    },
    {
     "name": "stderr",
     "output_type": "stream",
     "text": [
      "                                                   \r"
     ]
    },
    {
     "name": "stdout",
     "output_type": "stream",
     "text": [
      "Epoch 12 Train Loss: 0.1565 Acc: 0.9558\n"
     ]
    },
    {
     "name": "stderr",
     "output_type": "stream",
     "text": [
      "                                                  \r"
     ]
    },
    {
     "name": "stdout",
     "output_type": "stream",
     "text": [
      "Epoch 12 Val   Loss: 0.4404 Acc: 0.8480\n",
      "→ Salvo melhor modelo (0.8480) em modelo_estagio2_derm_emb.pth\n"
     ]
    },
    {
     "name": "stderr",
     "output_type": "stream",
     "text": [
      "                                                   \r"
     ]
    },
    {
     "name": "stdout",
     "output_type": "stream",
     "text": [
      "Epoch 13 Train Loss: 0.1424 Acc: 0.9719\n"
     ]
    },
    {
     "name": "stderr",
     "output_type": "stream",
     "text": [
      "                                                  \r"
     ]
    },
    {
     "name": "stdout",
     "output_type": "stream",
     "text": [
      "Epoch 13 Val   Loss: 0.4456 Acc: 0.8400\n"
     ]
    },
    {
     "name": "stderr",
     "output_type": "stream",
     "text": [
      "                                                   \r"
     ]
    },
    {
     "name": "stdout",
     "output_type": "stream",
     "text": [
      "Epoch 14 Train Loss: 0.1249 Acc: 0.9779\n"
     ]
    },
    {
     "name": "stderr",
     "output_type": "stream",
     "text": [
      "                                                  \r"
     ]
    },
    {
     "name": "stdout",
     "output_type": "stream",
     "text": [
      "Epoch 14 Val   Loss: 0.4448 Acc: 0.8400\n"
     ]
    },
    {
     "name": "stderr",
     "output_type": "stream",
     "text": [
      "                                                   \r"
     ]
    },
    {
     "name": "stdout",
     "output_type": "stream",
     "text": [
      "Epoch 15 Train Loss: 0.1261 Acc: 0.9679\n"
     ]
    },
    {
     "name": "stderr",
     "output_type": "stream",
     "text": [
      "                                                  \r"
     ]
    },
    {
     "name": "stdout",
     "output_type": "stream",
     "text": [
      "Epoch 15 Val   Loss: 0.4514 Acc: 0.8320\n"
     ]
    },
    {
     "name": "stderr",
     "output_type": "stream",
     "text": [
      "                                                   \r"
     ]
    },
    {
     "name": "stdout",
     "output_type": "stream",
     "text": [
      "Epoch 16 Train Loss: 0.1259 Acc: 0.9719\n"
     ]
    },
    {
     "name": "stderr",
     "output_type": "stream",
     "text": [
      "                                                  \r"
     ]
    },
    {
     "name": "stdout",
     "output_type": "stream",
     "text": [
      "Epoch 16 Val   Loss: 0.4541 Acc: 0.8320\n"
     ]
    },
    {
     "name": "stderr",
     "output_type": "stream",
     "text": [
      "                                                   \r"
     ]
    },
    {
     "name": "stdout",
     "output_type": "stream",
     "text": [
      "Epoch 17 Train Loss: 0.1199 Acc: 0.9779\n"
     ]
    },
    {
     "name": "stderr",
     "output_type": "stream",
     "text": [
      "                                                  \r"
     ]
    },
    {
     "name": "stdout",
     "output_type": "stream",
     "text": [
      "Epoch 17 Val   Loss: 0.5411 Acc: 0.7920\n"
     ]
    },
    {
     "name": "stderr",
     "output_type": "stream",
     "text": [
      "                                                   \r"
     ]
    },
    {
     "name": "stdout",
     "output_type": "stream",
     "text": [
      "Epoch 18 Train Loss: 0.1061 Acc: 0.9799\n"
     ]
    },
    {
     "name": "stderr",
     "output_type": "stream",
     "text": [
      "                                                  \r"
     ]
    },
    {
     "name": "stdout",
     "output_type": "stream",
     "text": [
      "Epoch 18 Val   Loss: 0.4796 Acc: 0.8320\n"
     ]
    },
    {
     "name": "stderr",
     "output_type": "stream",
     "text": [
      "                                                   \r"
     ]
    },
    {
     "name": "stdout",
     "output_type": "stream",
     "text": [
      "Epoch 19 Train Loss: 0.1097 Acc: 0.9759\n"
     ]
    },
    {
     "name": "stderr",
     "output_type": "stream",
     "text": [
      "                                                  \r"
     ]
    },
    {
     "name": "stdout",
     "output_type": "stream",
     "text": [
      "Epoch 19 Val   Loss: 0.5215 Acc: 0.7760\n"
     ]
    },
    {
     "name": "stderr",
     "output_type": "stream",
     "text": [
      "                                                   \r"
     ]
    },
    {
     "name": "stdout",
     "output_type": "stream",
     "text": [
      "Epoch 20 Train Loss: 0.1034 Acc: 0.9699\n"
     ]
    },
    {
     "name": "stderr",
     "output_type": "stream",
     "text": [
      "                                                  \r"
     ]
    },
    {
     "name": "stdout",
     "output_type": "stream",
     "text": [
      "Epoch 20 Val   Loss: 0.4892 Acc: 0.8240\n"
     ]
    },
    {
     "name": "stderr",
     "output_type": "stream",
     "text": [
      "                                                   \r"
     ]
    },
    {
     "name": "stdout",
     "output_type": "stream",
     "text": [
      "Epoch 21 Train Loss: 0.0834 Acc: 0.9920\n"
     ]
    },
    {
     "name": "stderr",
     "output_type": "stream",
     "text": [
      "                                                  \r"
     ]
    },
    {
     "name": "stdout",
     "output_type": "stream",
     "text": [
      "Epoch 21 Val   Loss: 0.4717 Acc: 0.8480\n"
     ]
    },
    {
     "name": "stderr",
     "output_type": "stream",
     "text": [
      "                                                   \r"
     ]
    },
    {
     "name": "stdout",
     "output_type": "stream",
     "text": [
      "Epoch 22 Train Loss: 0.0809 Acc: 0.9920\n"
     ]
    },
    {
     "name": "stderr",
     "output_type": "stream",
     "text": [
      "                                                  \r"
     ]
    },
    {
     "name": "stdout",
     "output_type": "stream",
     "text": [
      "Epoch 22 Val   Loss: 0.4691 Acc: 0.8400\n"
     ]
    },
    {
     "name": "stderr",
     "output_type": "stream",
     "text": [
      "                                                   \r"
     ]
    },
    {
     "name": "stdout",
     "output_type": "stream",
     "text": [
      "Epoch 23 Train Loss: 0.0777 Acc: 0.9980\n"
     ]
    },
    {
     "name": "stderr",
     "output_type": "stream",
     "text": [
      "                                                  \r"
     ]
    },
    {
     "name": "stdout",
     "output_type": "stream",
     "text": [
      "Epoch 23 Val   Loss: 0.4803 Acc: 0.8400\n"
     ]
    },
    {
     "name": "stderr",
     "output_type": "stream",
     "text": [
      "                                                   \r"
     ]
    },
    {
     "name": "stdout",
     "output_type": "stream",
     "text": [
      "Epoch 24 Train Loss: 0.0777 Acc: 0.9880\n"
     ]
    },
    {
     "name": "stderr",
     "output_type": "stream",
     "text": [
      "                                                  \r"
     ]
    },
    {
     "name": "stdout",
     "output_type": "stream",
     "text": [
      "Epoch 24 Val   Loss: 0.4820 Acc: 0.8400\n"
     ]
    },
    {
     "name": "stderr",
     "output_type": "stream",
     "text": [
      "                                                   \r"
     ]
    },
    {
     "name": "stdout",
     "output_type": "stream",
     "text": [
      "Epoch 25 Train Loss: 0.0699 Acc: 0.9940\n"
     ]
    },
    {
     "name": "stderr",
     "output_type": "stream",
     "text": [
      "                                                  \r"
     ]
    },
    {
     "name": "stdout",
     "output_type": "stream",
     "text": [
      "Epoch 25 Val   Loss: 0.4949 Acc: 0.8320\n"
     ]
    },
    {
     "name": "stderr",
     "output_type": "stream",
     "text": [
      "                                                   \r"
     ]
    },
    {
     "name": "stdout",
     "output_type": "stream",
     "text": [
      "Epoch 26 Train Loss: 0.0638 Acc: 0.9960\n"
     ]
    },
    {
     "name": "stderr",
     "output_type": "stream",
     "text": [
      "                                                  \r"
     ]
    },
    {
     "name": "stdout",
     "output_type": "stream",
     "text": [
      "Epoch 26 Val   Loss: 0.4834 Acc: 0.8240\n"
     ]
    },
    {
     "name": "stderr",
     "output_type": "stream",
     "text": [
      "                                                   \r"
     ]
    },
    {
     "name": "stdout",
     "output_type": "stream",
     "text": [
      "Epoch 27 Train Loss: 0.0632 Acc: 0.9900\n"
     ]
    },
    {
     "name": "stderr",
     "output_type": "stream",
     "text": [
      "                                                  \r"
     ]
    },
    {
     "name": "stdout",
     "output_type": "stream",
     "text": [
      "Epoch 27 Val   Loss: 0.4923 Acc: 0.8320\n"
     ]
    },
    {
     "name": "stderr",
     "output_type": "stream",
     "text": [
      "                                                   \r"
     ]
    },
    {
     "name": "stdout",
     "output_type": "stream",
     "text": [
      "Epoch 28 Train Loss: 0.0581 Acc: 0.9960\n"
     ]
    },
    {
     "name": "stderr",
     "output_type": "stream",
     "text": [
      "                                                  \r"
     ]
    },
    {
     "name": "stdout",
     "output_type": "stream",
     "text": [
      "Epoch 28 Val   Loss: 0.4949 Acc: 0.8400\n"
     ]
    },
    {
     "name": "stderr",
     "output_type": "stream",
     "text": [
      "                                                   \r"
     ]
    },
    {
     "name": "stdout",
     "output_type": "stream",
     "text": [
      "Epoch 29 Train Loss: 0.0558 Acc: 1.0000\n"
     ]
    },
    {
     "name": "stderr",
     "output_type": "stream",
     "text": [
      "                                                  \r"
     ]
    },
    {
     "name": "stdout",
     "output_type": "stream",
     "text": [
      "Epoch 29 Val   Loss: 0.4922 Acc: 0.8560\n",
      "→ Salvo melhor modelo (0.8560) em modelo_estagio2_derm_emb.pth\n"
     ]
    },
    {
     "name": "stderr",
     "output_type": "stream",
     "text": [
      "                                                   \r"
     ]
    },
    {
     "name": "stdout",
     "output_type": "stream",
     "text": [
      "Epoch 30 Train Loss: 0.0509 Acc: 1.0000\n"
     ]
    },
    {
     "name": "stderr",
     "output_type": "stream",
     "text": [
      "                                                  \r"
     ]
    },
    {
     "name": "stdout",
     "output_type": "stream",
     "text": [
      "Epoch 30 Val   Loss: 0.5010 Acc: 0.8320\n"
     ]
    },
    {
     "name": "stderr",
     "output_type": "stream",
     "text": [
      "                                                   \r"
     ]
    },
    {
     "name": "stdout",
     "output_type": "stream",
     "text": [
      "Epoch 31 Train Loss: 0.0490 Acc: 1.0000\n"
     ]
    },
    {
     "name": "stderr",
     "output_type": "stream",
     "text": [
      "                                                  \r"
     ]
    },
    {
     "name": "stdout",
     "output_type": "stream",
     "text": [
      "Epoch 31 Val   Loss: 0.4919 Acc: 0.8400\n"
     ]
    },
    {
     "name": "stderr",
     "output_type": "stream",
     "text": [
      "                                                   \r"
     ]
    },
    {
     "name": "stdout",
     "output_type": "stream",
     "text": [
      "Epoch 32 Train Loss: 0.0477 Acc: 1.0000\n"
     ]
    },
    {
     "name": "stderr",
     "output_type": "stream",
     "text": [
      "                                                  \r"
     ]
    },
    {
     "name": "stdout",
     "output_type": "stream",
     "text": [
      "Epoch 32 Val   Loss: 0.5217 Acc: 0.8080\n"
     ]
    },
    {
     "name": "stderr",
     "output_type": "stream",
     "text": [
      "                                                   \r"
     ]
    },
    {
     "name": "stdout",
     "output_type": "stream",
     "text": [
      "Epoch 33 Train Loss: 0.0461 Acc: 0.9980\n"
     ]
    },
    {
     "name": "stderr",
     "output_type": "stream",
     "text": [
      "                                                  \r"
     ]
    },
    {
     "name": "stdout",
     "output_type": "stream",
     "text": [
      "Epoch 33 Val   Loss: 0.5187 Acc: 0.8000\n"
     ]
    },
    {
     "name": "stderr",
     "output_type": "stream",
     "text": [
      "                                                   \r"
     ]
    },
    {
     "name": "stdout",
     "output_type": "stream",
     "text": [
      "Epoch 34 Train Loss: 0.0455 Acc: 1.0000\n"
     ]
    },
    {
     "name": "stderr",
     "output_type": "stream",
     "text": [
      "                                                  \r"
     ]
    },
    {
     "name": "stdout",
     "output_type": "stream",
     "text": [
      "Epoch 34 Val   Loss: 0.5233 Acc: 0.8400\n"
     ]
    },
    {
     "name": "stderr",
     "output_type": "stream",
     "text": [
      "                                                   \r"
     ]
    },
    {
     "name": "stdout",
     "output_type": "stream",
     "text": [
      "Epoch 35 Train Loss: 0.0433 Acc: 1.0000\n"
     ]
    },
    {
     "name": "stderr",
     "output_type": "stream",
     "text": [
      "                                                  \r"
     ]
    },
    {
     "name": "stdout",
     "output_type": "stream",
     "text": [
      "Epoch 35 Val   Loss: 0.5122 Acc: 0.8560\n"
     ]
    },
    {
     "name": "stderr",
     "output_type": "stream",
     "text": [
      "                                                   \r"
     ]
    },
    {
     "name": "stdout",
     "output_type": "stream",
     "text": [
      "Epoch 36 Train Loss: 0.0432 Acc: 1.0000\n"
     ]
    },
    {
     "name": "stderr",
     "output_type": "stream",
     "text": [
      "                                                  \r"
     ]
    },
    {
     "name": "stdout",
     "output_type": "stream",
     "text": [
      "Epoch 36 Val   Loss: 0.5183 Acc: 0.8400\n"
     ]
    },
    {
     "name": "stderr",
     "output_type": "stream",
     "text": [
      "                                                   \r"
     ]
    },
    {
     "name": "stdout",
     "output_type": "stream",
     "text": [
      "Epoch 37 Train Loss: 0.0395 Acc: 1.0000\n"
     ]
    },
    {
     "name": "stderr",
     "output_type": "stream",
     "text": [
      "                                                  \r"
     ]
    },
    {
     "name": "stdout",
     "output_type": "stream",
     "text": [
      "Epoch 37 Val   Loss: 0.5260 Acc: 0.8400\n"
     ]
    },
    {
     "name": "stderr",
     "output_type": "stream",
     "text": [
      "                                                   \r"
     ]
    },
    {
     "name": "stdout",
     "output_type": "stream",
     "text": [
      "Epoch 38 Train Loss: 0.0379 Acc: 1.0000\n"
     ]
    },
    {
     "name": "stderr",
     "output_type": "stream",
     "text": [
      "                                                  \r"
     ]
    },
    {
     "name": "stdout",
     "output_type": "stream",
     "text": [
      "Epoch 38 Val   Loss: 0.5256 Acc: 0.8400\n"
     ]
    },
    {
     "name": "stderr",
     "output_type": "stream",
     "text": [
      "                                                   \r"
     ]
    },
    {
     "name": "stdout",
     "output_type": "stream",
     "text": [
      "Epoch 39 Train Loss: 0.0360 Acc: 1.0000\n"
     ]
    },
    {
     "name": "stderr",
     "output_type": "stream",
     "text": [
      "                                                  \r"
     ]
    },
    {
     "name": "stdout",
     "output_type": "stream",
     "text": [
      "Epoch 39 Val   Loss: 0.5308 Acc: 0.8320\n"
     ]
    },
    {
     "name": "stderr",
     "output_type": "stream",
     "text": [
      "                                                             \r"
     ]
    },
    {
     "name": "stdout",
     "output_type": "stream",
     "text": [
      "Epoch 40 Train Loss: 0.0342 Acc: 1.0000\n"
     ]
    },
    {
     "name": "stderr",
     "output_type": "stream",
     "text": [
      "                                                  \r"
     ]
    },
    {
     "name": "stdout",
     "output_type": "stream",
     "text": [
      "Epoch 40 Val   Loss: 0.5572 Acc: 0.7840\n"
     ]
    },
    {
     "name": "stderr",
     "output_type": "stream",
     "text": [
      "                                                   \r"
     ]
    },
    {
     "name": "stdout",
     "output_type": "stream",
     "text": [
      "Epoch 41 Train Loss: 0.0349 Acc: 0.9980\n"
     ]
    },
    {
     "name": "stderr",
     "output_type": "stream",
     "text": [
      "                                                  \r"
     ]
    },
    {
     "name": "stdout",
     "output_type": "stream",
     "text": [
      "Epoch 41 Val   Loss: 0.5472 Acc: 0.8240\n"
     ]
    },
    {
     "name": "stderr",
     "output_type": "stream",
     "text": [
      "                                                   \r"
     ]
    },
    {
     "name": "stdout",
     "output_type": "stream",
     "text": [
      "Epoch 42 Train Loss: 0.0323 Acc: 1.0000\n"
     ]
    },
    {
     "name": "stderr",
     "output_type": "stream",
     "text": [
      "                                                  \r"
     ]
    },
    {
     "name": "stdout",
     "output_type": "stream",
     "text": [
      "Epoch 42 Val   Loss: 0.5327 Acc: 0.8480\n"
     ]
    },
    {
     "name": "stderr",
     "output_type": "stream",
     "text": [
      "                                                   \r"
     ]
    },
    {
     "name": "stdout",
     "output_type": "stream",
     "text": [
      "Epoch 43 Train Loss: 0.0331 Acc: 1.0000\n"
     ]
    },
    {
     "name": "stderr",
     "output_type": "stream",
     "text": [
      "                                                  \r"
     ]
    },
    {
     "name": "stdout",
     "output_type": "stream",
     "text": [
      "Epoch 43 Val   Loss: 0.5349 Acc: 0.8480\n"
     ]
    },
    {
     "name": "stderr",
     "output_type": "stream",
     "text": [
      "                                                   \r"
     ]
    },
    {
     "name": "stdout",
     "output_type": "stream",
     "text": [
      "Epoch 44 Train Loss: 0.0320 Acc: 1.0000\n"
     ]
    },
    {
     "name": "stderr",
     "output_type": "stream",
     "text": [
      "                                                  \r"
     ]
    },
    {
     "name": "stdout",
     "output_type": "stream",
     "text": [
      "Epoch 44 Val   Loss: 0.5532 Acc: 0.8400\n"
     ]
    },
    {
     "name": "stderr",
     "output_type": "stream",
     "text": [
      "                                                   \r"
     ]
    },
    {
     "name": "stdout",
     "output_type": "stream",
     "text": [
      "Epoch 45 Train Loss: 0.0294 Acc: 1.0000\n"
     ]
    },
    {
     "name": "stderr",
     "output_type": "stream",
     "text": [
      "                                                  \r"
     ]
    },
    {
     "name": "stdout",
     "output_type": "stream",
     "text": [
      "Epoch 45 Val   Loss: 0.5369 Acc: 0.8480\n"
     ]
    },
    {
     "name": "stderr",
     "output_type": "stream",
     "text": [
      "                                                   \r"
     ]
    },
    {
     "name": "stdout",
     "output_type": "stream",
     "text": [
      "Epoch 46 Train Loss: 0.0304 Acc: 1.0000\n"
     ]
    },
    {
     "name": "stderr",
     "output_type": "stream",
     "text": [
      "                                                  \r"
     ]
    },
    {
     "name": "stdout",
     "output_type": "stream",
     "text": [
      "Epoch 46 Val   Loss: 0.5705 Acc: 0.8080\n"
     ]
    },
    {
     "name": "stderr",
     "output_type": "stream",
     "text": [
      "                                                   \r"
     ]
    },
    {
     "name": "stdout",
     "output_type": "stream",
     "text": [
      "Epoch 47 Train Loss: 0.0291 Acc: 1.0000\n"
     ]
    },
    {
     "name": "stderr",
     "output_type": "stream",
     "text": [
      "                                                  \r"
     ]
    },
    {
     "name": "stdout",
     "output_type": "stream",
     "text": [
      "Epoch 47 Val   Loss: 0.5630 Acc: 0.8080\n"
     ]
    },
    {
     "name": "stderr",
     "output_type": "stream",
     "text": [
      "                                                   \r"
     ]
    },
    {
     "name": "stdout",
     "output_type": "stream",
     "text": [
      "Epoch 48 Train Loss: 0.0262 Acc: 1.0000\n"
     ]
    },
    {
     "name": "stderr",
     "output_type": "stream",
     "text": [
      "                                                  \r"
     ]
    },
    {
     "name": "stdout",
     "output_type": "stream",
     "text": [
      "Epoch 48 Val   Loss: 0.5633 Acc: 0.8320\n"
     ]
    },
    {
     "name": "stderr",
     "output_type": "stream",
     "text": [
      "                                                   \r"
     ]
    },
    {
     "name": "stdout",
     "output_type": "stream",
     "text": [
      "Epoch 49 Train Loss: 0.0257 Acc: 1.0000\n"
     ]
    },
    {
     "name": "stderr",
     "output_type": "stream",
     "text": [
      "                                                  \r"
     ]
    },
    {
     "name": "stdout",
     "output_type": "stream",
     "text": [
      "Epoch 49 Val   Loss: 0.5513 Acc: 0.8480\n"
     ]
    },
    {
     "name": "stderr",
     "output_type": "stream",
     "text": [
      "                                                   \r"
     ]
    },
    {
     "name": "stdout",
     "output_type": "stream",
     "text": [
      "Epoch 50 Train Loss: 0.0244 Acc: 1.0000\n"
     ]
    },
    {
     "name": "stderr",
     "output_type": "stream",
     "text": [
      "                                                  "
     ]
    },
    {
     "name": "stdout",
     "output_type": "stream",
     "text": [
      "Epoch 50 Val   Loss: 0.5622 Acc: 0.8320\n"
     ]
    },
    {
     "name": "stderr",
     "output_type": "stream",
     "text": [
      "\r"
     ]
    }
   ],
   "source": [
    "# --- 7. Treinamento do Estágio 2 ---\n",
    "print(\"\\n--- Treino Estágio 2 (Feridas) ---\")\n",
    "model_s2 = get_classifier_head(Derm_FOUNDATION_EMBEDDING_SIZE, len(classes_s2))\n",
    "crit_s2 = nn.CrossEntropyLoss()\n",
    "opt_s2  = optim.AdamW(model_s2.parameters(), lr=1e-3, weight_decay=0.01)\n",
    "\n",
    "run_training_emb(model_s2,\n",
    "                 train_loader_s2_emb,\n",
    "                 val_loader_s2_emb,\n",
    "                 crit_s2,\n",
    "                 opt_s2,\n",
    "                 \"modelo_estagio2_derm_emb.pth\",\n",
    "                 epochs=50)"
   ]
  },
  {
   "cell_type": "code",
   "execution_count": null,
   "metadata": {},
   "outputs": [],
   "source": [
    "import torch\n",
    "import numpy as np\n",
    "import matplotlib.pyplot as plt\n",
    "import seaborn as sns\n",
    "import os\n",
    "from sklearn.metrics import confusion_matrix, classification_report, accuracy_score, roc_auc_score"
   ]
  },
  {
   "cell_type": "code",
   "execution_count": 20,
   "metadata": {},
   "outputs": [],
   "source": [
    "train_s2_path = \"embeddings/train_s2_emb.pt\"\n",
    "val_s2_path = \"embeddings/val_s2_emb.pt\"\n",
    "test_s2_path = \"embeddings/test_s2_emb.pt\""
   ]
  },
  {
   "cell_type": "code",
   "execution_count": 23,
   "metadata": {},
   "outputs": [],
   "source": [
    "model_s2 = get_classifier_head(Derm_FOUNDATION_EMBEDDING_SIZE, len(classes_s2))"
   ]
  },
  {
   "cell_type": "code",
   "execution_count": null,
   "metadata": {},
   "outputs": [
    {
     "name": "stdout",
     "output_type": "stream",
     "text": [
      "\n",
      "--- Avaliação Detalhada no Conjunto de Teste (Estágio 2) ---\n",
      "Coletando predições para o conjunto de teste...\n"
     ]
    },
    {
     "name": "stderr",
     "output_type": "stream",
     "text": [
      "                                                      "
     ]
    },
    {
     "name": "stdout",
     "output_type": "stream",
     "text": [
      "\n",
      "Relatório de Classificação - Conjunto de Teste:\n",
      "                 precision    recall  f1-score   support\n",
      "\n",
      "Diabetic Wounds       0.78      0.76      0.77        46\n",
      "Pressure Wounds       0.91      0.82      0.86        60\n",
      "  Venous Wounds       0.84      0.96      0.90        50\n",
      "\n",
      "       accuracy                           0.85       156\n",
      "      macro avg       0.84      0.85      0.84       156\n",
      "   weighted avg       0.85      0.85      0.85       156\n",
      "\n",
      "\n",
      "Acurácia Geral no Conjunto de Teste: 0.8462\n",
      "\n",
      "Métricas Gerais do Modelo (Weighted Average):\n",
      "  Precision: 0.8483\n",
      "  Recall: 0.8462\n",
      "  F1-score: 0.8450\n"
     ]
    },
    {
     "name": "stderr",
     "output_type": "stream",
     "text": [
      "\r"
     ]
    },
    {
     "name": "stdout",
     "output_type": "stream",
     "text": [
      "  AUC (Weighted) do Modelo: 0.9601\n",
      "\n",
      "Calculando Matriz de Confusão...\n",
      "Visualizando Matriz de Confusão (em %)...\n"
     ]
    },
    {
     "data": {
      "image/png": "[encoded data removed]",
      "text/plain": [
       "<Figure size 800x600 with 2 Axes>"
      ]
     },
     "metadata": {},
     "output_type": "display_data"
    },
    {
     "name": "stdout",
     "output_type": "stream",
     "text": [
      "\n",
      "Classes do Estágio 2 e seus índices para referência:\n",
      "Índice 0: Diabetic Wounds\n",
      "Índice 1: Pressure Wounds\n",
      "Índice 2: Venous Wounds\n"
     ]
    }
   ],
   "source": [
    "from sklearn.metrics import roc_auc_score\n",
    "import torch\n",
    "import torch.nn.functional as F\n",
    "import numpy as np\n",
    "import pandas as pd\n",
    "import matplotlib.pyplot as plt\n",
    "from sklearn.metrics import classification_report, accuracy_score, confusion_matrix, ConfusionMatrixDisplay\n",
    "import seaborn as sns\n",
    "import os\n",
    "from tqdm import tqdm\n",
    "\n",
    "# --- 8. Avaliação Detalhada no Conjunto de Teste ---\n",
    "print(\"\\n--- Avaliação Detalhada no Conjunto de Teste (Estágio 2) ---\")\n",
    "\n",
    "save_model_path = \"modelo_estagio2_derm_emb.pth\"\n",
    "\n",
    "if 'test_loader_s2_emb' not in globals() or test_loader_s2_emb is None or len(test_loader_s2_emb.dataset) == 0:\n",
    "    print(\"Loader de teste não disponível ou vazio. Pulando avaliação detalhada.\")\n",
    "else:\n",
    "    if not os.path.exists(save_model_path):\n",
    "        print(f\"Modelo treinado '{save_model_path}' não encontrado. Não é possível carregar para avaliação.\")\n",
    "    else:\n",
    "        model_s2.load_state_dict(torch.load(save_model_path, map_location=device))\n",
    "        model_s2.eval()\n",
    "\n",
    "        all_labels = []\n",
    "        all_preds = []\n",
    "        all_probs = []\n",
    "\n",
    "        print(\"Coletando predições para o conjunto de teste...\")\n",
    "        with torch.no_grad():\n",
    "            for emb, lbl in tqdm(test_loader_s2_emb, desc=\"Avaliando Teste\", leave=False):\n",
    "                emb, lbl = emb.to(device), lbl.to(device)\n",
    "\n",
    "                out = model_s2(emb)\n",
    "                probs = F.softmax(out, dim=1)\n",
    "                preds = out.argmax(1)\n",
    "\n",
    "                all_labels.extend(lbl.cpu().numpy())\n",
    "                all_preds.extend(preds.cpu().numpy())\n",
    "                all_probs.extend(probs.cpu().numpy())\n",
    "\n",
    "        all_labels = np.array(all_labels)\n",
    "        all_preds = np.array(all_preds)\n",
    "        all_probs = np.array(all_probs)\n",
    "\n",
    "        # --- Geração e Exibição das Métricas de Avaliação ---\n",
    "        print(\"\\nRelatório de Classificação - Conjunto de Teste:\")\n",
    "        report_dict = classification_report(all_labels, all_preds, target_names=classes_s2, output_dict=True, zero_division=0)\n",
    "        print(classification_report(all_labels, all_preds, target_names=classes_s2, zero_division=0))\n",
    "\n",
    "        overall_test_accuracy = accuracy_score(all_labels, all_preds)\n",
    "        print(f\"\\nAcurácia Geral no Conjunto de Teste: {overall_test_accuracy:.4f}\")\n",
    "\n",
    "        print(\"\\nMétricas Gerais do Modelo (Weighted Average):\")\n",
    "        print(f\"   Precision: {report_dict['weighted avg']['precision']:.4f}\")\n",
    "        print(f\"   Recall: {report_dict['weighted avg']['recall']:.4f}\")\n",
    "        print(f\"   F1-score: {report_dict['weighted avg']['f1-score']:.4f}\")\n",
    "\n",
    "        if len(np.unique(all_labels)) > 1:\n",
    "            try:\n",
    "                auc_score = roc_auc_score(all_labels, all_probs, multi_class='ovr', average='weighted')\n",
    "                print(f\"   AUC (Weighted) do Modelo: {auc_score:.4f}\")\n",
    "            except ValueError as e:\n",
    "                print(f\"   Não foi possível calcular o AUC: {e}. Isso pode ocorrer se houver apenas uma classe verdadeira nos dados.\")\n",
    "        else:\n",
    "            print(\"   Não foi possível calcular o AUC: Apenas uma classe verdadeira encontrada nos dados.\")\n",
    "\n",
    "        print(\"\\nCalculando Matriz de Confusão...\")\n",
    "        cm = confusion_matrix(all_labels, all_preds, labels=range(len(classes_s2)))\n",
    "\n",
    "        row_sums = cm.sum(axis=1)[:, np.newaxis]\n",
    "        cm_normalized = np.where(row_sums > 0, cm.astype('float') / row_sums, 0)\n",
    "\n",
    "        print(\"Visualizando Matriz de Confusão (em %)...\")\n",
    "        plt.figure(figsize=(8, 6))\n",
    "        sns.heatmap(cm_normalized, annot=True, fmt='.2%', cmap='Blues', xticklabels=classes_s2, yticklabels=classes_s2)\n",
    "        plt.xlabel('Rótulo Previsto')\n",
    "        plt.ylabel('Rótulo Verdadeiro')\n",
    "        plt.title('Matriz de Confusão - Emb + Cam Saída)')\n",
    "        plt.show()\n",
    "\n",
    "print(f\"\\nClasses do Estágio 2 e seus índices para referência:\")\n",
    "if 'idx_to_label_s2' in locals():\n",
    "     for i, name in idx_to_label_s2.items():\n",
    "         print(f\"Índice {i}: {name}\")\n",
    "else:\n",
    "     print(\"Mapeamento de índices para nomes de classes (Estágio 2):\")\n",
    "     for i, name in enumerate(classes_s2):\n",
    "         print(f\"Índice {i}: {name}\")"
   ]
  },
  {
   "cell_type": "code",
   "execution_count": null,
   "metadata": {},
   "outputs": [
    {
     "name": "stdout",
     "output_type": "stream",
     "text": [
      "\n",
      "--- Avaliação Detalhada no Conjunto de Teste (Estágio 2) ---\n",
      "Avaliando apenas predições com confiança (probabilidade máxima) > 0.99\n",
      "Coletando predições e probabilidades para o conjunto de teste...\n"
     ]
    },
    {
     "name": "stderr",
     "output_type": "stream",
     "text": [
      "                                                      "
     ]
    },
    {
     "name": "stdout",
     "output_type": "stream",
     "text": [
      "\n",
      "Total de amostras no conjunto de teste: 156\n",
      "Total de amostras com confiança > 0.99: 132\n",
      "\n",
      "--- Resultados para Predições com Confiança > 0.99 ---\n",
      "\n",
      "Relatório de Classificação - Conjunto de Teste (Filtrado):\n",
      "                 precision    recall  f1-score   support\n",
      "\n",
      "Diabetic Wounds       0.82      0.84      0.83        38\n",
      "Pressure Wounds       0.98      0.84      0.90        50\n",
      "  Venous Wounds       0.88      1.00      0.94        44\n",
      "\n",
      "       accuracy                           0.89       132\n",
      "      macro avg       0.89      0.89      0.89       132\n",
      "   weighted avg       0.90      0.89      0.89       132\n",
      "\n",
      "\n",
      "Acurácia Geral para Predições com Confiança > 0.99: 0.8939\n",
      "\n",
      "Calculando Matriz de Confusão (Filtrada)...\n",
      "Visualizando Matriz de Confusão Normalizada (Filtrada, em %)...\n"
     ]
    },
    {
     "name": "stderr",
     "output_type": "stream",
     "text": [
      "\r"
     ]
    },
    {
     "data": {
      "image/png": "[encoded data removed]",
      "text/plain": [
       "<Figure size 800x600 with 2 Axes>"
      ]
     },
     "metadata": {},
     "output_type": "display_data"
    },
    {
     "name": "stdout",
     "output_type": "stream",
     "text": [
      "\n",
      "Classes do Estágio 2 e seus índices para referência:\n",
      "Índice 0: Diabetic Wounds\n",
      "Índice 1: Pressure Wounds\n",
      "Índice 2: Venous Wounds\n"
     ]
    }
   ],
   "source": [
    "# --- 8. Avaliação Detalhada no Conjunto de Teste (Filtrada por Confiança) ---\n",
    "print(\"\\n--- Avaliação Detalhada no Conjunto de Teste (Estágio 2) ---\")\n",
    "\n",
    "confidence_threshold = 0.95\n",
    "print(f\"Avaliando apenas predições com confiança (probabilidade máxima) > {confidence_threshold:.2f}\")\n",
    "\n",
    "if 'test_loader_s2_emb' not in globals() or test_loader_s2_emb is None or len(test_loader_s2_emb.dataset) == 0:\n",
    "    print(\"Loader de teste não disponível ou vazio. Pulando avaliação detalhada.\")\n",
    "else:\n",
    "    if not os.path.exists(save_model_path):\n",
    "        print(f\"Modelo treinado '{save_model_path}' não encontrado. Não é possível carregar para avaliação.\")\n",
    "    else:\n",
    "        model_s2.load_state_dict(torch.load(save_model_path))\n",
    "        model_s2.eval()\n",
    "\n",
    "        all_labels = []\n",
    "        all_preds = []\n",
    "        all_max_probs = []\n",
    "\n",
    "        print(\"Coletando predições e probabilidades para o conjunto de teste...\")\n",
    "        with torch.no_grad():\n",
    "            for emb, lbl in tqdm(test_loader_s2_emb, desc=\"Avaliando Teste\", leave=False):\n",
    "                emb, lbl = emb.to(device), lbl.to(device)\n",
    "                \n",
    "                out = model_s2(emb)\n",
    "                probabilities = torch.softmax(out, dim=1)\n",
    "                max_probs, preds = torch.max(probabilities, dim=1) \n",
    "\n",
    "                all_labels.extend(lbl.cpu().numpy())\n",
    "                all_preds.extend(preds.cpu().numpy())\n",
    "                all_max_probs.extend(max_probs.cpu().numpy())\n",
    "\n",
    "        all_labels = np.array(all_labels)\n",
    "        all_preds = np.array(all_preds)\n",
    "        all_max_probs = np.array(all_max_probs)\n",
    "\n",
    "        # --- Filtrar predições por limiar de confiança ---\n",
    "        confident_mask = all_max_probs > confidence_threshold\n",
    "\n",
    "        filtered_labels = all_labels[confident_mask]\n",
    "        filtered_preds = all_preds[confident_mask]\n",
    "        filtered_confidence_scores = all_max_probs[confident_mask]\n",
    "\n",
    "        print(f\"\\nTotal de amostras no conjunto de teste: {len(all_labels)}\")\n",
    "        print(f\"Total de amostras com confiança > {confidence_threshold:.2f}: {len(filtered_labels)}\")\n",
    "\n",
    "        # --- Geração e Exibição das Métricas de Avaliação (Filtradas) ---\n",
    "        if len(filtered_labels) == 0:\n",
    "            print(\"\\nNenhuma predição atingiu o limiar de confiança especificado.\")\n",
    "        else:\n",
    "            print(f\"\\n--- Resultados para Predições com Confiança > {confidence_threshold:.2f} ---\")\n",
    "\n",
    "            print(\"\\nRelatório de Classificação - Conjunto de Teste (Filtrado):\")\n",
    "            report_filtered = classification_report(filtered_labels, filtered_preds, target_names=classes_s2, zero_division=0)\n",
    "            print(report_filtered)\n",
    "\n",
    "            overall_test_accuracy_filtered = accuracy_score(filtered_labels, filtered_preds)\n",
    "            print(f\"\\nAcurácia Geral para Predições com Confiança > {confidence_threshold:.2f}: {overall_test_accuracy_filtered:.4f}\")\n",
    "\n",
    "            print(\"\\nCalculando Matriz de Confusão (Filtrada)...\")\n",
    "            cm_filtered = confusion_matrix(filtered_labels, filtered_preds)\n",
    "\n",
    "            row_sums_filtered = cm_filtered.sum(axis=1)\n",
    "            cm_normalized_filtered = cm_filtered.astype('float') / (row_sums_filtered[:, np.newaxis] + 1e-9)\n",
    "\n",
    "            print(\"Visualizando Matriz de Confusão Normalizada (Filtrada, em %)...\")\n",
    "            plt.figure(figsize=(8, 6))\n",
    "            \n",
    "            sns.heatmap(cm_normalized_filtered, annot=True, fmt='.2%', cmap='Blues', xticklabels=classes_s2, yticklabels=classes_s2)\n",
    "            \n",
    "            plt.xlabel('Rótulo Previsto')\n",
    "            plt.ylabel('Rótulo Verdadeiro')\n",
    "            plt.title(f'Matriz de Confusão Normalizada (Confiança > {confidence_threshold:.2f}) - Estágio 2')\n",
    "            plt.show()\n",
    "\n",
    "print(f\"\\nClasses do Estágio 2 e seus índices para referência:\")\n",
    "if 'idx_to_label_s2' in locals():\n",
    "     for i, name in idx_to_label_s2.items():\n",
    "         print(f\"Índice {i}: {name}\")\n",
    "else:\n",
    "     print(\"Mapeamento de índices para nomes de classes (Estágio 2):\")\n",
    "     for i, name in enumerate(classes_s2):\n",
    "         print(f\"Índice {i}: {name}\")"
   ]
  },
  {
   "cell_type": "code",
   "execution_count": null,
   "metadata": {},
   "outputs": [],
   "source": [
    "import torch\n",
    "import torch.nn as nn\n",
    "import torch.optim as optim\n",
    "import numpy as np\n",
    "import matplotlib.pyplot as plt\n",
    "import seaborn as sns\n",
    "import os\n",
    "from sklearn.metrics import confusion_matrix, classification_report, accuracy_score\n",
    "from tqdm import tqdm\n",
    "\n",
    "# --- 1. Definição do Novo Modelo Classificador MLP ---\n",
    "\n",
    "class SimpleMLPClassifier(nn.Module):\n",
    "    def __init__(self, emb_size, num_classes, hidden_size=256, dropout_rate=0.25):\n",
    "        super(SimpleMLPClassifier, self).__init__()\n",
    "\n",
    "        self.fc1 = nn.Linear(emb_size, hidden_size)\n",
    "        self.relu1 = nn.ReLU()\n",
    "        self.dropout1 = nn.Dropout(dropout_rate)\n",
    "\n",
    "        self.fc2 = nn.Linear(hidden_size, hidden_size)\n",
    "        self.relu2 = nn.ReLU()\n",
    "        self.dropout2 = nn.Dropout(dropout_rate)\n",
    "\n",
    "        self.fc_out = nn.Linear(hidden_size, num_classes)\n",
    "\n",
    "    def forward(self, x):\n",
    "        x = self.fc1(x)\n",
    "        x = self.relu1(x)\n",
    "        x = self.dropout1(x)\n",
    "\n",
    "        x = self.fc2(x)\n",
    "        x = self.relu2(x)\n",
    "        x = self.dropout2(x)\n",
    "\n",
    "        x = self.fc_out(x)\n",
    "        return x\n",
    "\n",
    "def get_classifier_head(emb_size, n_classes):\n",
    "    return SimpleMLPClassifier(emb_size, n_classes).to(device)\n",
    "\n",
    "# --- 2. Funções de Treinamento e Validação ---\n",
    "\n",
    "def train_epoch(model, loader, crit, opt, epoch, epochs):\n",
    "    model.train(); rl, rc, tot = 0, 0, 0\n",
    "    if loader is None or len(loader.dataset) == 0:\n",
    "        print(f\"Loader de treino vazio na época {epoch+1}. Pulando treino.\")\n",
    "        return 0, 0\n",
    "\n",
    "    for emb, lbl in tqdm(loader, desc=f\"Treino {epoch+1}/{epochs}\", leave=False):\n",
    "        emb, lbl = emb.to(device), lbl.to(device)\n",
    "        opt.zero_grad()\n",
    "        out = model(emb)\n",
    "        loss = crit(out, lbl)\n",
    "        loss.backward()\n",
    "        opt.step()\n",
    "        rl += loss.item()*emb.size(0)\n",
    "        preds = out.argmax(1)\n",
    "        rc += (preds==lbl).sum().item()\n",
    "        tot+= lbl.size(0)\n",
    "    avg_loss = rl/tot if tot > 0 else 0\n",
    "    avg_acc = rc/tot if tot > 0 else 0\n",
    "    print(f\"Época {epoch+1} Treino Loss: {avg_loss:.4f} Acc: {avg_acc:.4f}\")\n",
    "    return avg_loss, avg_acc\n",
    "\n",
    "def val_epoch(model, loader, crit, epoch, epochs, phase=\"Val\"):\n",
    "    model.eval(); rl, rc, tot = 0, 0, 0\n",
    "    if loader is None or len(loader.dataset) == 0:\n",
    "        print(f\"Loader de {phase} vazio na época {epoch+1}. Pulando validação/teste.\")\n",
    "        return 0, 0\n",
    "\n",
    "    with torch.no_grad():\n",
    "        for emb, lbl in tqdm(loader, desc=f\"{phase}  {epoch+1}/{epochs}\", leave=False):\n",
    "            emb, lbl = emb.to(device), lbl.to(device)\n",
    "            out  = model(emb)\n",
    "            loss = crit(out, lbl)\n",
    "            rl += loss.item()*emb.size(0)\n",
    "            preds = out.argmax(1)\n",
    "            rc += (preds==lbl).sum().item()\n",
    "            tot+= lbl.size(0)\n",
    "    avg_loss = rl/tot if tot > 0 else 0\n",
    "    avg_acc = rc/tot if tot > 0 else 0\n",
    "    print(f\"Época {epoch+1} {phase}  Loss: {avg_loss:.4f} Acc: {avg_acc:.4f}\")\n",
    "    return avg_loss, avg_acc\n",
    "\n",
    "def run_training_emb(model, tr_loader, v_loader, crit, opt, save_path, epochs=10):\n",
    "    best_acc = 0\n",
    "    if tr_loader is None or v_loader is None or len(tr_loader.dataset) == 0 or len(v_loader.dataset) == 0:\n",
    "        print(\"Loaders de treino ou validação não disponíveis ou vazios. Pulando treinamento.\")\n",
    "        return\n",
    "\n",
    "    print(f\"\\nIniciando treinamento por {epochs} épocas...\")\n",
    "    for e in range(epochs):\n",
    "        train_epoch(model, tr_loader, crit, opt, e, epochs)\n",
    "        _, acc = val_epoch(model, v_loader, crit, e, epochs)\n",
    "        if acc > best_acc:\n",
    "            best_acc = acc\n",
    "            torch.save(model.state_dict(), save_path)\n",
    "            print(f\"→ Modelo salvo (melhor acc de validação: {acc:.4f}) em {save_path}\")\n",
    "\n",
    "    print(f\"Treinamento concluído. Melhor acurácia de validação: {best_acc:.4f}\")\n",
    "    print(f\"Modelo final salvo em: {save_path}\")"
   ]
  },
  {
   "cell_type": "code",
   "execution_count": null,
   "metadata": {},
   "outputs": [
    {
     "name": "stdout",
     "output_type": "stream",
     "text": [
      "\n",
      "--- Avaliação Detalhada no Conjunto de Teste (Estágio 2 MLP) ---\n",
      "Coletando predições e probabilidades para o conjunto de teste...\n"
     ]
    },
    {
     "name": "stderr",
     "output_type": "stream",
     "text": [
      "                                                              \r"
     ]
    },
    {
     "name": "stdout",
     "output_type": "stream",
     "text": [
      "\n",
      "--- Resultados para TODAS as Predições (MLP) ---\n",
      "\n",
      "Relatório de Classificação - Conjunto de Teste (Não Filtrado):\n",
      "                 precision    recall  f1-score   support\n",
      "\n",
      "Diabetic Wounds       0.79      0.72      0.75        46\n",
      "Pressure Wounds       0.82      0.85      0.84        60\n",
      "  Venous Wounds       0.88      0.92      0.90        50\n",
      "\n",
      "       accuracy                           0.83       156\n",
      "      macro avg       0.83      0.83      0.83       156\n",
      "   weighted avg       0.83      0.83      0.83       156\n",
      "\n",
      "\n",
      "Acurácia Geral (Não Filtrada): 0.8333\n",
      "\n",
      "Métricas Gerais (Weighted Average - Não Filtrado):\n",
      "  Precision: 0.8316\n",
      "  Recall: 0.8333\n",
      "  F1-score: 0.8318\n",
      "  AUC (Weighted - Não Filtrado) do Modelo: 0.9480\n",
      "Visualizando Matriz de Confusão Normalizada (Não Filtrada, em %)...\n"
     ]
    },
    {
     "data": {
      "image/png": "[encoded data removed]",
      "text/plain": [
       "<Figure size 800x600 with 2 Axes>"
      ]
     },
     "metadata": {},
     "output_type": "display_data"
    },
    {
     "name": "stdout",
     "output_type": "stream",
     "text": [
      "\n",
      "--- Resultados para Predições com Confiança > 0.99 (MLP) ---\n",
      "\n",
      "Total de amostras no conjunto de teste: 156\n",
      "Total de amostras com confiança > 0.99: 131\n",
      "\n",
      "Relatório de Classificação - Conjunto de Teste (Filtrado):\n",
      "                 precision    recall  f1-score   support\n",
      "\n",
      "Diabetic Wounds       0.83      0.81      0.82        36\n",
      "Pressure Wounds       0.92      0.88      0.90        52\n",
      "  Venous Wounds       0.89      0.95      0.92        43\n",
      "\n",
      "       accuracy                           0.89       131\n",
      "      macro avg       0.88      0.88      0.88       131\n",
      "   weighted avg       0.89      0.89      0.88       131\n",
      "\n",
      "\n",
      "Acurácia Geral para Predições com Confiança > 0.99: 0.8855\n",
      "\n",
      "Métricas Gerais (Weighted Average - Filtrado):\n",
      "  Precision: 0.8855\n",
      "  Recall: 0.8855\n",
      "  F1-score: 0.8849\n",
      "  AUC (Weighted - Filtrado) do Modelo: 0.9660\n",
      "Visualizando Matriz de Confusão Normalizada (Filtrada, em %)...\n"
     ]
    },
    {
     "data": {
      "image/png": "[encoded data removed]",
      "text/plain": [
       "<Figure size 800x600 with 2 Axes>"
      ]
     },
     "metadata": {},
     "output_type": "display_data"
    },
    {
     "name": "stdout",
     "output_type": "stream",
     "text": [
      "\n",
      "Classes do Estágio 2 e seus índices para referência:\n",
      "Índice 0: Diabetic Wounds\n",
      "Índice 1: Pressure Wounds\n",
      "Índice 2: Venous Wounds\n"
     ]
    }
   ],
   "source": [
    "import torch\n",
    "import torch.nn.functional as F\n",
    "import numpy as np\n",
    "import matplotlib.pyplot as plt\n",
    "import seaborn as sns\n",
    "import os\n",
    "from sklearn.metrics import classification_report, accuracy_score, confusion_matrix, ConfusionMatrixDisplay, roc_auc_score\n",
    "from tqdm import tqdm\n",
    "\n",
    "# --- 4. Avaliação Detalhada no Conjunto de Teste (Para o modelo MLP) ---\n",
    "print(\"\\n--- Avaliação Detalhada no Conjunto de Teste (Estágio 2 MLP) ---\")\n",
    "\n",
    "save_model_path_mlp = \"modelo_estagio2_mlp_derm_emb.pth\"\n",
    "\n",
    "if 'test_loader_s2_emb' not in globals() or test_loader_s2_emb is None or len(test_loader_s2_emb.dataset) == 0:\n",
    "    print(\"Loader de teste não disponível ou vazio. Pulando avaliação detalhada.\")\n",
    "else:\n",
    "    if not os.path.exists(save_model_path_mlp):\n",
    "        print(f\"Modelo treinado '{save_model_path_mlp}' não encontrado. Não é possível carregar para avaliação.\")\n",
    "    else:\n",
    "        model_s2_evaluated = get_classifier_head(Derm_FOUNDATION_EMBEDDING_SIZE, len(classes_s2))\n",
    "        model_s2_evaluated.load_state_dict(torch.load(save_model_path_mlp, map_location=device))\n",
    "        model_s2_evaluated.eval()\n",
    "\n",
    "        all_labels = []\n",
    "        all_preds = []\n",
    "        all_max_probs = []\n",
    "        all_full_probs = []\n",
    "\n",
    "        print(\"Coletando predições e probabilidades para o conjunto de teste...\")\n",
    "        with torch.no_grad():\n",
    "            for emb, lbl in tqdm(test_loader_s2_emb, desc=\"Avaliando Teste\", leave=False):\n",
    "                emb, lbl = emb.to(device), lbl.to(device)\n",
    "                \n",
    "                out = model_s2_evaluated(emb)\n",
    "\n",
    "                probabilities = torch.softmax(out, dim=1)\n",
    "                max_probs, preds = torch.max(probabilities, dim=1)\n",
    "\n",
    "                all_labels.extend(lbl.cpu().numpy())\n",
    "                all_preds.extend(preds.cpu().numpy())\n",
    "                all_max_probs.extend(max_probs.cpu().numpy())\n",
    "                all_full_probs.extend(probabilities.cpu().numpy())\n",
    "\n",
    "        all_labels = np.array(all_labels)\n",
    "        all_preds = np.array(all_preds)\n",
    "        all_max_probs = np.array(all_max_probs)\n",
    "        all_full_probs = np.array(all_full_probs)\n",
    "\n",
    "        # --- Avaliação Completa (Não Filtrada) ---\n",
    "        print(\"\\n--- Resultados para TODAS as Predições (MLP) ---\")\n",
    "\n",
    "        print(\"\\nRelatório de Classificação - Conjunto de Teste (Não Filtrado):\")\n",
    "        report_full_dict = classification_report(all_labels, all_preds, target_names=classes_s2, output_dict=True, zero_division=0)\n",
    "        print(classification_report(all_labels, all_preds, target_names=classes_s2, zero_division=0))\n",
    "\n",
    "        accuracy_full = accuracy_score(all_labels, all_preds)\n",
    "        print(f\"\\nAcurácia Geral (Não Filtrada): {accuracy_full:.4f}\")\n",
    "\n",
    "        # --- IMPRIMIR PRECISÃO, RECALL e F1-SCORE GERAIS (Weighted Avg - Não Filtrado) ---\n",
    "        print(\"\\nMétricas Gerais (Weighted Average - Não Filtrado):\")\n",
    "        print(f\"   Precision: {report_full_dict['weighted avg']['precision']:.4f}\")\n",
    "        print(f\"   Recall: {report_full_dict['weighted avg']['recall']:.4f}\")\n",
    "        print(f\"   F1-score: {report_full_dict['weighted avg']['f1-score']:.4f}\")\n",
    "\n",
    "        # --- CALCULAR E IMPRIMIR AUC (Não Filtrado) ---\n",
    "        if len(np.unique(all_labels)) > 1:\n",
    "            try:\n",
    "                auc_score_full = roc_auc_score(all_labels, all_full_probs, multi_class='ovr', average='weighted')\n",
    "                print(f\"   AUC (Weighted - Não Filtrado) do Modelo: {auc_score_full:.4f}\")\n",
    "            except ValueError as e:\n",
    "                print(f\"   Não foi possível calcular o AUC (Não Filtrado): {e}. Isso pode ocorrer se houver apenas uma classe verdadeira nos dados.\")\n",
    "        else:\n",
    "            print(\"   Não foi possível calcular o AUC (Não Filtrado): Apenas uma classe verdadeira encontrada nos dados.\")\n",
    "\n",
    "        cm_full = confusion_matrix(all_labels, all_preds, labels=range(len(classes_s2)))\n",
    "\n",
    "        row_sums_full = cm_full.sum(axis=1)\n",
    "        cm_normalized_full = cm_full.astype('float') / (row_sums_full[:, np.newaxis] + 1e-9)\n",
    "\n",
    "        print(\"Visualizando Matriz de Confusão Normalizada (Não Filtrada, em %)...\")\n",
    "        plt.figure(figsize=(8, 6))\n",
    "        sns.heatmap(cm_normalized_full, annot=True, fmt='.2%', cmap='Blues',\n",
    "                    xticklabels=classes_s2, yticklabels=classes_s2)\n",
    "        plt.xlabel('Rótulo Previsto'); plt.ylabel('Rótulo Verdadeiro'); plt.title('Matriz de Confusão Normalizada (Todas Predições) - Estágio 2 MLP'); plt.show()\n",
    "\n",
    "\n",
    "        # --- Avaliação Filtrada por Confiança ---\n",
    "        \n",
    "        confidence_threshold = 0.99\n",
    "        print(f\"\\n--- Resultados para Predições com Confiança > {confidence_threshold:.2f} (MLP) ---\")\n",
    "\n",
    "        confident_mask = all_max_probs > confidence_threshold\n",
    "        filtered_labels = all_labels[confident_mask]\n",
    "        filtered_preds = all_preds[confident_mask]\n",
    "        filtered_full_probs = all_full_probs[confident_mask]\n",
    "\n",
    "        print(f\"\\nTotal de amostras no conjunto de teste: {len(all_labels)}\")\n",
    "        print(f\"Total de amostras com confiança > {confidence_threshold}: {len(filtered_labels)}\")\n",
    "\n",
    "\n",
    "        if len(filtered_labels) == 0:\n",
    "            print(\"\\nNenhuma predição atingiu o limiar de confiança especificado para esta avaliação filtrada.\")\n",
    "        else:\n",
    "            # --- Geração e Exibição das Métricas de Avaliação (Filtradas) ---\n",
    "\n",
    "            print(\"\\nRelatório de Classificação - Conjunto de Teste (Filtrado):\")\n",
    "            report_filtered_dict = classification_report(filtered_labels, filtered_preds, target_names=classes_s2, output_dict=True, zero_division=0)\n",
    "            print(classification_report(filtered_labels, filtered_preds, target_names=classes_s2, zero_division=0))\n",
    "\n",
    "            overall_test_accuracy_filtered = accuracy_score(filtered_labels, filtered_preds)\n",
    "            print(f\"\\nAcurácia Geral para Predições com Confiança > {confidence_threshold}: {overall_test_accuracy_filtered:.4f}\")\n",
    "\n",
    "            # --- IMPRIMIR PRECISÃO, RECALL e F1-SCORE GERAIS (Weighted Avg - Filtrado) ---\n",
    "            print(\"\\nMétricas Gerais (Weighted Average - Filtrado):\")\n",
    "            print(f\"   Precision: {report_filtered_dict['weighted avg']['precision']:.4f}\")\n",
    "            print(f\"   Recall: {report_filtered_dict['weighted avg']['recall']:.4f}\")\n",
    "            print(f\"   F1-score: {report_filtered_dict['weighted avg']['f1-score']:.4f}\")\n",
    "\n",
    "            # --- CALCULAR E IMPRIMIR AUC (Filtrado) ---\n",
    "            if len(np.unique(filtered_labels)) > 1:\n",
    "                try:\n",
    "                    auc_score_filtered = roc_auc_score(filtered_labels, filtered_full_probs, multi_class='ovr', average='weighted')\n",
    "                    print(f\"   AUC (Weighted - Filtrado) do Modelo: {auc_score_filtered:.4f}\")\n",
    "                except ValueError as e:\n",
    "                    print(f\"   Não foi possível calcular o AUC (Filtrado): {e}. Isso pode ocorrer se houver apenas uma classe verdadeira nos dados filtrados.\")\n",
    "            else:\n",
    "                print(\"   Não foi possível calcular o AUC (Filtrado): Apenas uma classe verdadeira encontrada nos dados filtrados.\")\n",
    "\n",
    "            cm_filtered = confusion_matrix(filtered_labels, filtered_preds, labels=range(len(classes_s2)))\n",
    "\n",
    "            row_sums_filtered = cm_filtered.sum(axis=1)\n",
    "            cm_normalized_filtered = cm_filtered.astype('float') / (row_sums_filtered[:, np.newaxis] + 1e-9)\n",
    "\n",
    "            print(\"Visualizando Matriz de Confusão Normalizada (Filtrada, em %)...\")\n",
    "            plt.figure(figsize=(8, 6)) \n",
    "            sns.heatmap(cm_normalized_filtered, annot=True, fmt='.2%', cmap='Blues',\n",
    "                        xticklabels=classes_s2, yticklabels=classes_s2)\n",
    "            plt.xlabel('Rótulo Previsto')\n",
    "            plt.ylabel('Rótulo Verdadeiro')\n",
    "            plt.title(f'Matriz de Confusão Normalizada (Confiança > {confidence_threshold}) - Estágio 2 MLP')\n",
    "            plt.show()\n",
    "\n",
    "print(f\"\\nClasses do Estágio 2 e seus índices para referência:\")\n",
    "if 'idx_to_label_s2' in locals():\n",
    "     for i, name in idx_to_label_s2.items():\n",
    "         print(f\"Índice {i}: {name}\")\n",
    "else:\n",
    "     print(\"Mapeamento de índices para nomes de classes (Estágio 2):\")\n",
    "     for i, name in enumerate(classes_s2):\n",
    "         print(f\"Índice {i}: {name}\")"
   ]
  },
  {
   "cell_type": "code",
   "execution_count": null,
   "metadata": {},
   "outputs": [
    {
     "name": "stdout",
     "output_type": "stream",
     "text": [
      "\n",
      "--- Treinando SVM nos Embeddings Pré-computados (Estágio 2) ---\n",
      "Carregando embeddings de treino de: embeddings/train_s2_emb.pt\n",
      "Carregando embeddings de validação de: embeddings/val_s2_emb.pt\n",
      "Carregando embeddings de teste de: embeddings/test_s2_emb.pt\n",
      "Shape dos dados de treino: X=(498, 6144), y=(498,)\n",
      "Shape dos dados de validação: X=(125, 6144), y=(125,)\n",
      "Shape dos dados de teste: X=(156, 6144), y=(156,)\n",
      "\n",
      "Iniciando teste de diferentes valores de C no conjunto de VALIDAÇÃO para seleção...\n",
      "\n",
      "Treinando SVC com C = 0.01 no conjunto de TREINO...\n",
      "Acurácia no conjunto de VALIDAÇÃO para C=0.01: 0.3840\n",
      "\n",
      "Treinando SVC com C = 0.1 no conjunto de TREINO...\n",
      "Acurácia no conjunto de VALIDAÇÃO para C=0.1: 0.7760\n",
      "\n",
      "Treinando SVC com C = 1 no conjunto de TREINO...\n",
      "Acurácia no conjunto de VALIDAÇÃO para C=1: 0.8400\n",
      "\n",
      "Treinando SVC com C = 10 no conjunto de TREINO...\n",
      "Acurácia no conjunto de VALIDAÇÃO para C=10: 0.8240\n",
      "\n",
      "Treinando SVC com C = 100 no conjunto de TREINO...\n",
      "Acurácia no conjunto de VALIDAÇÃO para C=100: 0.8320\n",
      "\n",
      "Seleção do parâmetro C concluída com base no conjunto de validação.\n",
      "Melhor C encontrado: 1\n",
      "Melhor Acurácia de Validação: 0.8400\n",
      "\n",
      "Treinando o modelo SVM FINAL com o melhor C (1) no conjunto de TREINO...\n",
      "Treinamento do modelo FINAL concluído.\n",
      "\n",
      "Avaliando o modelo FINAL SVM no conjunto de TESTE (avaliação imparcial)...\n",
      "\n",
      "Relatório de Classificação - Conjunto de TESTE (Melhor SVM):\n",
      "                 precision    recall  f1-score   support\n",
      "\n",
      "Diabetic Wounds       0.75      0.72      0.73        46\n",
      "Pressure Wounds       0.84      0.80      0.82        60\n",
      "  Venous Wounds       0.87      0.96      0.91        50\n",
      "\n",
      "       accuracy                           0.83       156\n",
      "      macro avg       0.82      0.83      0.82       156\n",
      "   weighted avg       0.82      0.83      0.82       156\n",
      "\n",
      "\n",
      "Acurácia Geral no Conjunto de TESTE (Melhor SVM - C=1): 0.8269\n",
      "\n",
      "Métricas Gerais do Modelo SVM (Weighted Average):\n",
      "  Precision: 0.8248\n",
      "  Recall: 0.8269\n",
      "  F1-score: 0.8249\n",
      "  AUC (Weighted) do Modelo SVM: 0.9546\n",
      "\n",
      "Calculando Matriz de Confusão (Melhor SVM) no TESTE...\n",
      "Visualizando Matriz de Confusão Normalizada (Melhor SVM, em %) no TESTE...\n"
     ]
    },
    {
     "data": {
      "image/png": "[encoded data removed]",
      "text/plain": [
       "<Figure size 800x600 with 2 Axes>"
      ]
     },
     "metadata": {},
     "output_type": "display_data"
    },
    {
     "name": "stdout",
     "output_type": "stream",
     "text": [
      "\n",
      "Classes do Estágio 2 e seus índices para referência:\n",
      "Índice 0: Diabetic Wounds\n",
      "Índice 1: Pressure Wounds\n",
      "Índice 2: Venous Wounds\n"
     ]
    }
   ],
   "source": [
    "import torch\n",
    "import numpy as np\n",
    "import matplotlib.pyplot as plt\n",
    "import seaborn as sns\n",
    "import os\n",
    "from sklearn.svm import SVC\n",
    "from sklearn.metrics import confusion_matrix, classification_report, accuracy_score, roc_auc_score\n",
    "\n",
    "print(\"\\n--- Treinando SVM nos Embeddings Pré-computados (Estágio 2) ---\")\n",
    "\n",
    "train_s2_path = \"embeddings/train_s2_emb.pt\"\n",
    "val_s2_path = \"embeddings/val_s2_emb.pt\"\n",
    "test_s2_path = \"embeddings/test_s2_emb.pt\"\n",
    "\n",
    "classes_s2 = ['Diabetic Wounds', 'Pressure Wounds', 'Venous Wounds']\n",
    "idx_to_label_s2 = {0: 'Diabetic Wounds', 1: 'Pressure Wounds', 2: 'Venous Wounds'}\n",
    "\n",
    "\n",
    "# --- 1. Carregar os Embeddings e Rótulos Pré-computados ---\n",
    "if not all(os.path.exists(p) for p in [train_s2_path, val_s2_path, test_s2_path]):\n",
    "    print(f\"Erro: Arquivos de embedding não encontrados. Verifique os caminhos:\")\n",
    "    print(f\"Treino: {train_s2_path}\")\n",
    "    print(f\"Validação: {val_s2_path}\")\n",
    "    print(f\"Teste: {test_s2_path}\")\n",
    "else:\n",
    "    print(f\"Carregando embeddings de treino de: {train_s2_path}\")\n",
    "    train_embs, train_labels = torch.load(train_s2_path)\n",
    "    print(f\"Carregando embeddings de validação de: {val_s2_path}\")\n",
    "    val_embs, val_labels = torch.load(val_s2_path)\n",
    "    print(f\"Carregando embeddings de teste de: {test_s2_path}\")\n",
    "    test_embs, test_labels = torch.load(test_s2_path)\n",
    "\n",
    "    X_train = train_embs.cpu().numpy()\n",
    "    y_train = train_labels.cpu().numpy()\n",
    "    X_val = val_embs.cpu().numpy()\n",
    "    y_val = val_labels.cpu().numpy()\n",
    "    X_test = test_embs.cpu().numpy()\n",
    "    y_test = test_labels.cpu().numpy()\n",
    "\n",
    "    print(f\"Shape dos dados de treino: X={X_train.shape}, y={y_train.shape}\")\n",
    "    print(f\"Shape dos dados de validação: X={X_val.shape}, y={y_val.shape}\")\n",
    "    print(f\"Shape dos dados de teste: X={X_test.shape}, y={y_test.shape}\")\n",
    "\n",
    "    if X_train.shape[0] == 0 or X_val.shape[0] == 0 or X_test.shape[0] == 0:\n",
    "        print(\"Dados de treino, validação ou teste vazios após o carregamento. Pulando treinamento e avaliação da SVM.\")\n",
    "    else:\n",
    "        # --- 2. Testar diferentes valores de C usando o conjunto de VALIDAÇÃO ---\n",
    "\n",
    "        C_values = [0.01, 0.1, 1, 10, 100]\n",
    "        best_val_accuracy = -1.0\n",
    "        best_C = None\n",
    "        \n",
    "        print(\"\\nIniciando teste de diferentes valores de C no conjunto de VALIDAÇÃO para seleção...\")\n",
    "\n",
    "        for C_val in C_values:\n",
    "            print(f\"\\nTreinando SVC com C = {C_val} no conjunto de TREINO...\")\n",
    "            svm_model = SVC(kernel='rbf', C=C_val, random_state=42, probability=True)\n",
    "            svm_model.fit(X_train, y_train)\n",
    "\n",
    "            y_val_pred = svm_model.predict(X_val)\n",
    "            current_val_accuracy = accuracy_score(y_val, y_val_pred)\n",
    "            \n",
    "            print(f\"Acurácia no conjunto de VALIDAÇÃO para C={C_val}: {current_val_accuracy:.4f}\")\n",
    "\n",
    "            if current_val_accuracy > best_val_accuracy:\n",
    "                best_val_accuracy = current_val_accuracy\n",
    "                best_C = C_val\n",
    "\n",
    "        print(\"\\nSeleção do parâmetro C concluída com base no conjunto de validação.\")\n",
    "        print(f\"Melhor C encontrado: {best_C}\")\n",
    "        print(f\"Melhor Acurácia de Validação: {best_val_accuracy:.4f}\")\n",
    "\n",
    "        # --- 3. Treinar o modelo FINAL com o melhor C no conjunto de TREINO COMPLETO ---\n",
    "        print(f\"\\nTreinando o modelo SVM FINAL com o melhor C ({best_C}) no conjunto de TREINO...\")\n",
    "        final_svm_model = SVC(kernel='rbf', C=best_C, random_state=42, probability=True)\n",
    "        final_svm_model.fit(X_train, y_train)\n",
    "        print(\"Treinamento do modelo FINAL concluído.\")\n",
    "\n",
    "\n",
    "        # --- 4. Avaliar o Modelo FINAL no Conjunto de TESTE (APENAS AGORA) ---\n",
    "\n",
    "        print(\"\\nAvaliando o modelo FINAL SVM no conjunto de TESTE (avaliação imparcial)...\")\n",
    "        y_pred_test = final_svm_model.predict(X_test)\n",
    "        y_pred_probs_test = final_svm_model.predict_proba(X_test)\n",
    "\n",
    "        # --- Geração e Exibição das Métricas de Avaliação ---\n",
    "\n",
    "        print(\"\\nRelatório de Classificação - Conjunto de TESTE (Melhor SVM):\")\n",
    "        report_dict = classification_report(y_test, y_pred_test, target_names=classes_s2, output_dict=True, zero_division=0)\n",
    "        print(classification_report(y_test, y_pred_test, target_names=classes_s2, zero_division=0))\n",
    "\n",
    "        accuracy_test = accuracy_score(y_test, y_pred_test)\n",
    "        print(f\"\\nAcurácia Geral no Conjunto de TESTE (Melhor SVM - C={best_C}): {accuracy_test:.4f}\")\n",
    "\n",
    "        # --- IMPRIMIR PRECISÃO, RECALL e F1-SCORE GERAIS (Weighted Avg) ---\n",
    "        print(\"\\nMétricas Gerais do Modelo SVM (Weighted Average):\")\n",
    "        print(f\"   Precision: {report_dict['weighted avg']['precision']:.4f}\")\n",
    "        print(f\"   Recall: {report_dict['weighted avg']['recall']:.4f}\")\n",
    "        print(f\"   F1-score: {report_dict['weighted avg']['f1-score']:.4f}\")\n",
    "\n",
    "        # --- CALCULAR E IMPRIMIR AUC ---\n",
    "        if len(np.unique(y_test)) > 1:\n",
    "            try:\n",
    "                auc_score_test = roc_auc_score(y_test, y_pred_probs_test, multi_class='ovr', average='weighted')\n",
    "                print(f\"   AUC (Weighted) do Modelo SVM: {auc_score_test:.4f}\")\n",
    "            except ValueError as e:\n",
    "                print(f\"   Não foi possível calcular o AUC: {e}. Isso pode ocorrer se houver apenas uma classe verdadeira nos dados de teste.\")\n",
    "        else:\n",
    "            print(\"   Não foi possível calcular o AUC: Apenas uma classe verdadeira encontrada nos dados de teste.\")\n",
    "\n",
    "        print(\"\\nCalculando Matriz de Confusão (Melhor SVM) no TESTE...\")\n",
    "        cm = confusion_matrix(y_test, y_pred_test, labels=range(len(classes_s2)))\n",
    "\n",
    "        # --- Normaliza a Matriz de Confusão para Porcentagens ---\n",
    "        row_sums = cm.sum(axis=1)\n",
    "        cm_normalized = cm.astype('float') / (row_sums[:, np.newaxis] + 1e-9)\n",
    "\n",
    "\n",
    "        # Visualiza a Matriz de Confusão Normalizada (Porcentagens)\n",
    "        print(\"Visualizando Matriz de Confusão Normalizada (Melhor SVM, em %) no TESTE...\")\n",
    "        plt.figure(figsize=(8, 6))\n",
    "\n",
    "        sns.heatmap(cm_normalized, annot=True, fmt='.2%', cmap='Blues',\n",
    "                            xticklabels=classes_s2, yticklabels=classes_s2)\n",
    "\n",
    "        plt.xlabel('Rótulo Previsto')\n",
    "        plt.ylabel('Rótulo Verdadeiro')\n",
    "        plt.title(f'Matriz de Confusão Normalizada (Melhor SVM - C={best_C}) - Estágio 2')\n",
    "        plt.show()\n",
    "        \n",
    "print(f\"\\nClasses do Estágio 2 e seus índices para referência:\")\n",
    "if 'idx_to_label_s2' in locals():\n",
    "    for i, name in idx_to_label_s2.items():\n",
    "        print(f\"Índice {i}: {name}\")\n",
    "else:\n",
    "    print(\"Mapeamento de índices para nomes de classes (Estágio 2):\")\n",
    "    for i, name in enumerate(classes_s2):\n",
    "        print(f\"Índice {i}: {name}\")"
   ]
  }
 ],
 "metadata": {
  "kernelspec": {
   "display_name": "venv_wound",
   "language": "python",
   "name": "python3"
  },
  "language_info": {
   "codemirror_mode": {
    "name": "ipython",
    "version": 3
   },
   "file_extension": ".py",
   "mimetype": "text/x-python",
   "name": "python",
   "nbconvert_exporter": "python",
   "pygments_lexer": "ipython3",
   "version": "3.11.9"
  }
 },
 "nbformat": 4,
 "nbformat_minor": 2
}
